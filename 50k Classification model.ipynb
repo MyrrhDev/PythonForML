{
 "cells": [
  {
   "cell_type": "markdown",
   "metadata": {
    "colab_type": "text",
    "id": "MC2P4ZHYqEXJ"
   },
   "source": [
    "# **Classification model: Adult Data Set**\n",
    "#### Abstract:\n",
    "Predict whether income exceeds $50K/yr based on US census data. Also known as \"Census Income\" dataset. \n",
    "\n",
    "https://archive.ics.uci.edu/ml/datasets/adult\n"
   ]
  },
  {
   "cell_type": "markdown",
   "metadata": {
    "colab_type": "text",
    "id": "X10fm9TOBniD"
   },
   "source": [
    "#**Imports and functions**"
   ]
  },
  {
   "cell_type": "code",
   "execution_count": 1,
   "metadata": {
    "colab": {},
    "colab_type": "code",
    "id": "dCuFCZU3qEXZ"
   },
   "outputs": [],
   "source": [
    "import pandas as pd\n",
    "import numpy as np\n",
    "import missingno as msno\n",
    "import seaborn as sns\n",
    "import math\n",
    "import matplotlib.pyplot as plt \n",
    "\n",
    "from sklearn.preprocessing import LabelEncoder, MinMaxScaler\n",
    "from sklearn.feature_selection import SelectKBest, chi2, RFE\n",
    "from sklearn.model_selection import train_test_split\n",
    "from sklearn.ensemble import ExtraTreesClassifier\n",
    "from sklearn.linear_model import LogisticRegression, LassoCV\n",
    "from sklearn.neighbors import KNeighborsClassifier\n",
    "from sklearn.svm import SVC\n",
    "from sklearn.svm import LinearSVC\n",
    "from sklearn.ensemble import RandomForestClassifier\n",
    "from sklearn.metrics import roc_curve\n",
    "from sklearn.metrics import auc\n",
    "from sklearn.metrics import confusion_matrix\n",
    "from sklearn.cluster import KMeans\n",
    "from sklearn.metrics import calinski_harabaz_score\n",
    "\n",
    "%matplotlib inline\n",
    "# ignore all warnings\n",
    "import warnings\n",
    "warnings.simplefilter(\"ignore\")"
   ]
  },
  {
   "cell_type": "code",
   "execution_count": 2,
   "metadata": {
    "colab": {},
    "colab_type": "code",
    "id": "n7TED6yEhrDN"
   },
   "outputs": [],
   "source": [
    "def confusionMatrix(y_test, y_pred):\n",
    "    \"\"\" \n",
    "    Returns the confusion matrix plot and the confusion matrix dataframe.\n",
    "\n",
    "    Parameters:\n",
    "        y_test: dataframe with the real data labels.\n",
    "        y_pred: dataframe with the predicted data labels.\n",
    "    Returns:\n",
    "        data_cm: Dataframe of the confusion matrix result.   \n",
    "\n",
    "    \"\"\"\n",
    "    cm = confusion_matrix(y_test, y_pred)\n",
    "    data_cm = pd.DataFrame(cm, columns=np.unique(y_test), index = np.unique(y_test))\n",
    "    data_cm.index.name = 'Actual'\n",
    "    data_cm.columns.name = 'Predicted'\n",
    "\n",
    "    sns.set(font_scale=1.4)\n",
    "    fig, ax = plt.subplots(figsize=(12,6))\n",
    "\n",
    "    sns.heatmap(data_cm, cmap=\"Blues\", annot=True, fmt='', ax=ax)\n",
    "    return data_cm"
   ]
  },
  {
   "cell_type": "code",
   "execution_count": 3,
   "metadata": {
    "colab": {},
    "colab_type": "code",
    "id": "tlpIzMMnqEYg"
   },
   "outputs": [],
   "source": [
    "def distributionPlot(data, columnNumber):\n",
    "    \"\"\" \n",
    "    Generates the distribution plot for the given data.\n",
    "\n",
    "    Parameters:\n",
    "        data: dataframe with the data to plot.\n",
    "        columNumber: Number of columns the plot will return.\n",
    "\n",
    "    \"\"\"\n",
    "    data_columns = data.columns.values\n",
    "    #data_columns = data._get_numeric_data().columns.values\n",
    "    plot_columns = columnNumber\n",
    "    number_of_columns = math.ceil(len(data_columns)/plot_columns)\n",
    "    number_of_rows = math.ceil((len(data_columns))/number_of_columns)\n",
    "\n",
    "    plt.figure(figsize=(16,22))\n",
    "\n",
    "    # plot distribution\n",
    "    for i in range(0, len(data_columns)):\n",
    "        plt.subplot(number_of_columns + 1, number_of_rows, i+1)\n",
    "        sns.distplot(data[data_columns[i]], kde=True) "
   ]
  },
  {
   "cell_type": "markdown",
   "metadata": {
    "colab_type": "text",
    "id": "T2qDKP5yCDOL"
   },
   "source": [
    "#**Reading data**"
   ]
  },
  {
   "cell_type": "code",
   "execution_count": 73,
   "metadata": {
    "colab": {
     "base_uri": "https://localhost:8080/"
    },
    "colab_type": "code",
    "executionInfo": {
     "elapsed": 4544,
     "status": "ok",
     "timestamp": 1578781168437,
     "user": {
      "displayName": "Àlex Valls",
      "photoUrl": "",
      "userId": "01219145643472682283"
     },
     "user_tz": -60
    },
    "id": "rVmvKkcbqEZd",
    "outputId": "7a988111-4203-4594-d7fe-6f7286b9e357"
   },
   "outputs": [
    {
     "data": {
      "text/plain": [
       "Index(['age', 'workclass', 'fnlwgt', 'education', 'educationNum',\n",
       "       'maritalStatus', 'occupation', 'relationship', 'race', 'sex',\n",
       "       'capitalGain', 'capitalLoss', 'hoursWeek', 'nativeCountry', 'target'],\n",
       "      dtype='object')"
      ]
     },
     "execution_count": 73,
     "metadata": {},
     "output_type": "execute_result"
    }
   ],
   "source": [
    "df_train = pd.read_csv('adult_train.csv')\n",
    "df_train.columns"
   ]
  },
  {
   "cell_type": "code",
   "execution_count": 74,
   "metadata": {
    "colab": {
     "base_uri": "https://localhost:8080/"
    },
    "colab_type": "code",
    "executionInfo": {
     "elapsed": 4527,
     "status": "ok",
     "timestamp": 1578781168439,
     "user": {
      "displayName": "Àlex Valls",
      "photoUrl": "",
      "userId": "01219145643472682283"
     },
     "user_tz": -60
    },
    "id": "sRWzq0UQCrFa",
    "outputId": "a0c6bf07-1b0a-4f19-e3c6-8e95b663b0ad"
   },
   "outputs": [
    {
     "data": {
      "text/html": [
       "<div>\n",
       "<style scoped>\n",
       "    .dataframe tbody tr th:only-of-type {\n",
       "        vertical-align: middle;\n",
       "    }\n",
       "\n",
       "    .dataframe tbody tr th {\n",
       "        vertical-align: top;\n",
       "    }\n",
       "\n",
       "    .dataframe thead th {\n",
       "        text-align: right;\n",
       "    }\n",
       "</style>\n",
       "<table border=\"1\" class=\"dataframe\">\n",
       "  <thead>\n",
       "    <tr style=\"text-align: right;\">\n",
       "      <th></th>\n",
       "      <th>age</th>\n",
       "      <th>workclass</th>\n",
       "      <th>fnlwgt</th>\n",
       "      <th>education</th>\n",
       "      <th>educationNum</th>\n",
       "      <th>maritalStatus</th>\n",
       "      <th>occupation</th>\n",
       "      <th>relationship</th>\n",
       "      <th>race</th>\n",
       "      <th>sex</th>\n",
       "      <th>capitalGain</th>\n",
       "      <th>capitalLoss</th>\n",
       "      <th>hoursWeek</th>\n",
       "      <th>nativeCountry</th>\n",
       "      <th>target</th>\n",
       "    </tr>\n",
       "  </thead>\n",
       "  <tbody>\n",
       "    <tr>\n",
       "      <td>0</td>\n",
       "      <td>39</td>\n",
       "      <td>State-gov</td>\n",
       "      <td>77516</td>\n",
       "      <td>Bachelors</td>\n",
       "      <td>13</td>\n",
       "      <td>Never-married</td>\n",
       "      <td>Adm-clerical</td>\n",
       "      <td>Not-in-family</td>\n",
       "      <td>White</td>\n",
       "      <td>Male</td>\n",
       "      <td>2174</td>\n",
       "      <td>0</td>\n",
       "      <td>40</td>\n",
       "      <td>United-States</td>\n",
       "      <td>&lt;=50K</td>\n",
       "    </tr>\n",
       "    <tr>\n",
       "      <td>1</td>\n",
       "      <td>50</td>\n",
       "      <td>Self-emp-not-inc</td>\n",
       "      <td>83311</td>\n",
       "      <td>Bachelors</td>\n",
       "      <td>13</td>\n",
       "      <td>Married-civ-spouse</td>\n",
       "      <td>Exec-managerial</td>\n",
       "      <td>Husband</td>\n",
       "      <td>White</td>\n",
       "      <td>Male</td>\n",
       "      <td>0</td>\n",
       "      <td>0</td>\n",
       "      <td>13</td>\n",
       "      <td>United-States</td>\n",
       "      <td>&lt;=50K</td>\n",
       "    </tr>\n",
       "    <tr>\n",
       "      <td>2</td>\n",
       "      <td>38</td>\n",
       "      <td>Private</td>\n",
       "      <td>215646</td>\n",
       "      <td>HS-grad</td>\n",
       "      <td>9</td>\n",
       "      <td>Divorced</td>\n",
       "      <td>Handlers-cleaners</td>\n",
       "      <td>Not-in-family</td>\n",
       "      <td>White</td>\n",
       "      <td>Male</td>\n",
       "      <td>0</td>\n",
       "      <td>0</td>\n",
       "      <td>40</td>\n",
       "      <td>United-States</td>\n",
       "      <td>&lt;=50K</td>\n",
       "    </tr>\n",
       "    <tr>\n",
       "      <td>3</td>\n",
       "      <td>53</td>\n",
       "      <td>Private</td>\n",
       "      <td>234721</td>\n",
       "      <td>11th</td>\n",
       "      <td>7</td>\n",
       "      <td>Married-civ-spouse</td>\n",
       "      <td>Handlers-cleaners</td>\n",
       "      <td>Husband</td>\n",
       "      <td>Black</td>\n",
       "      <td>Male</td>\n",
       "      <td>0</td>\n",
       "      <td>0</td>\n",
       "      <td>40</td>\n",
       "      <td>United-States</td>\n",
       "      <td>&lt;=50K</td>\n",
       "    </tr>\n",
       "    <tr>\n",
       "      <td>4</td>\n",
       "      <td>28</td>\n",
       "      <td>Private</td>\n",
       "      <td>338409</td>\n",
       "      <td>Bachelors</td>\n",
       "      <td>13</td>\n",
       "      <td>Married-civ-spouse</td>\n",
       "      <td>Prof-specialty</td>\n",
       "      <td>Wife</td>\n",
       "      <td>Black</td>\n",
       "      <td>Female</td>\n",
       "      <td>0</td>\n",
       "      <td>0</td>\n",
       "      <td>40</td>\n",
       "      <td>Cuba</td>\n",
       "      <td>&lt;=50K</td>\n",
       "    </tr>\n",
       "  </tbody>\n",
       "</table>\n",
       "</div>"
      ],
      "text/plain": [
       "   age          workclass  fnlwgt   education  educationNum  \\\n",
       "0   39          State-gov   77516   Bachelors            13   \n",
       "1   50   Self-emp-not-inc   83311   Bachelors            13   \n",
       "2   38            Private  215646     HS-grad             9   \n",
       "3   53            Private  234721        11th             7   \n",
       "4   28            Private  338409   Bachelors            13   \n",
       "\n",
       "         maritalStatus          occupation    relationship    race      sex  \\\n",
       "0        Never-married        Adm-clerical   Not-in-family   White     Male   \n",
       "1   Married-civ-spouse     Exec-managerial         Husband   White     Male   \n",
       "2             Divorced   Handlers-cleaners   Not-in-family   White     Male   \n",
       "3   Married-civ-spouse   Handlers-cleaners         Husband   Black     Male   \n",
       "4   Married-civ-spouse      Prof-specialty            Wife   Black   Female   \n",
       "\n",
       "   capitalGain  capitalLoss  hoursWeek   nativeCountry  target  \n",
       "0         2174            0         40   United-States   <=50K  \n",
       "1            0            0         13   United-States   <=50K  \n",
       "2            0            0         40   United-States   <=50K  \n",
       "3            0            0         40   United-States   <=50K  \n",
       "4            0            0         40            Cuba   <=50K  "
      ]
     },
     "execution_count": 74,
     "metadata": {},
     "output_type": "execute_result"
    }
   ],
   "source": [
    "df_train.head()"
   ]
  },
  {
   "cell_type": "markdown",
   "metadata": {
    "colab_type": "text",
    "id": "1-wAzmVaqEZx"
   },
   "source": [
    "#**Data Transformation**"
   ]
  },
  {
   "cell_type": "markdown",
   "metadata": {
    "colab_type": "text",
    "id": "lHoY_Jg_qEX-"
   },
   "source": [
    "The relevant data exploration process (pre-processing, feature extraction/selection, clustering\n",
    "and visualization) \n",
    "1. treatment of lost values (missing values)\n",
    "2. treatment of anomalous values (outliers)\n",
    "3. treatment of incoherent or incorrect values\n",
    "4. coding of non-continuous or non-ordered variables (nominal or binary)\n",
    "5. possible elimination of irrelevant or redundant variables (feature selection)\n",
    "6. creation of new variables that can be useful (feature extraction)\n",
    "7. normalization of the variables (e.g. standardization)\n",
    "8. transformation of the variables (e.g. correction of serious skewness and/or kurtosis)"
   ]
  },
  {
   "cell_type": "markdown",
   "metadata": {
    "colab_type": "text",
    "id": "l9Y_rfsuqEZ3"
   },
   "source": [
    "## Treatment of lost values (missing values)\n",
    "\n",
    "Out testing dataset doesn't have missing values but on further inspection the unknown values have been replaced with a \" ?\" when there's a missing value. So we are going to use pandas replace_to para reemplazarlo con NaN y que podamos hacer algo con esos values. https://pandas.pydata.org/pandas-docs/stable/reference/api/pandas.DataFrame.replace.html"
   ]
  },
  {
   "cell_type": "code",
   "execution_count": 75,
   "metadata": {
    "colab": {
     "base_uri": "https://localhost:8080/",
     "height": 727
    },
    "colab_type": "code",
    "executionInfo": {
     "elapsed": 4502,
     "status": "ok",
     "timestamp": 1578781168442,
     "user": {
      "displayName": "Àlex Valls",
      "photoUrl": "",
      "userId": "01219145643472682283"
     },
     "user_tz": -60
    },
    "id": "rU9rezl2qEZ9",
    "outputId": "3acab7bc-a407-45e6-e417-cd46d47aae84",
    "scrolled": true
   },
   "outputs": [
    {
     "data": {
      "text/plain": [
       "<matplotlib.axes._subplots.AxesSubplot at 0x7fbfc5628210>"
      ]
     },
     "execution_count": 75,
     "metadata": {},
     "output_type": "execute_result"
    },
    {
     "data": {
      "image/png": "[encoded data removed]",
      "text/plain": [
       "<Figure size 1800x720 with 2 Axes>"
      ]
     },
     "metadata": {},
     "output_type": "display_data"
    }
   ],
   "source": [
    "msno.matrix(df_train)"
   ]
  },
  {
   "cell_type": "code",
   "execution_count": 76,
   "metadata": {
    "colab": {},
    "colab_type": "code",
    "id": "KP6l6q6cqEaQ"
   },
   "outputs": [],
   "source": [
    "df_train = df_train.replace(' ?', np.nan)"
   ]
  },
  {
   "cell_type": "code",
   "execution_count": 77,
   "metadata": {
    "colab": {
     "base_uri": "https://localhost:8080/",
     "height": 727
    },
    "colab_type": "code",
    "executionInfo": {
     "elapsed": 5047,
     "status": "ok",
     "timestamp": 1578781169042,
     "user": {
      "displayName": "Àlex Valls",
      "photoUrl": "",
      "userId": "01219145643472682283"
     },
     "user_tz": -60
    },
    "id": "0Cad3dnsqEaz",
    "outputId": "e8e47b6a-242c-4674-e1c3-0bf67ce5bfc7"
   },
   "outputs": [
    {
     "data": {
      "text/plain": [
       "<matplotlib.axes._subplots.AxesSubplot at 0x7fbfc5740250>"
      ]
     },
     "execution_count": 77,
     "metadata": {},
     "output_type": "execute_result"
    },
    {
     "data": {
      "image/png": "[encoded data removed]",
      "text/plain": [
       "<Figure size 1800x720 with 2 Axes>"
      ]
     },
     "metadata": {},
     "output_type": "display_data"
    }
   ],
   "source": [
    "msno.matrix(df_train)"
   ]
  },
  {
   "cell_type": "code",
   "execution_count": 78,
   "metadata": {
    "colab": {
     "base_uri": "https://localhost:8080/",
     "height": 752
    },
    "colab_type": "code",
    "executionInfo": {
     "elapsed": 5545,
     "status": "ok",
     "timestamp": 1578781169577,
     "user": {
      "displayName": "Àlex Valls",
      "photoUrl": "",
      "userId": "01219145643472682283"
     },
     "user_tz": -60
    },
    "id": "YC3mB2lnqEbI",
    "outputId": "db69f8c2-2f7a-4fdd-899e-47751ed27133"
   },
   "outputs": [
    {
     "data": {
      "text/plain": [
       "<matplotlib.axes._subplots.AxesSubplot at 0x7fbfc5347650>"
      ]
     },
     "execution_count": 78,
     "metadata": {},
     "output_type": "execute_result"
    },
    {
     "data": {
      "image/png": "[encoded data removed]",
      "text/plain": [
       "<Figure size 1728x720 with 3 Axes>"
      ]
     },
     "metadata": {},
     "output_type": "display_data"
    }
   ],
   "source": [
    "msno.bar(df_train)"
   ]
  },
  {
   "cell_type": "code",
   "execution_count": 79,
   "metadata": {
    "colab": {
     "base_uri": "https://localhost:8080/",
     "height": 311
    },
    "colab_type": "code",
    "executionInfo": {
     "elapsed": 5512,
     "status": "ok",
     "timestamp": 1578781169579,
     "user": {
      "displayName": "Àlex Valls",
      "photoUrl": "",
      "userId": "01219145643472682283"
     },
     "user_tz": -60
    },
    "id": "8ZaG85nCqEba",
    "outputId": "1d78097d-771d-409a-ea2c-d4f1d57996c5"
   },
   "outputs": [
    {
     "data": {
      "text/plain": [
       "age                 0\n",
       "workclass        1836\n",
       "fnlwgt              0\n",
       "education           0\n",
       "educationNum        0\n",
       "maritalStatus       0\n",
       "occupation       1843\n",
       "relationship        0\n",
       "race                0\n",
       "sex                 0\n",
       "capitalGain         0\n",
       "capitalLoss         0\n",
       "hoursWeek           0\n",
       "nativeCountry     583\n",
       "target              0\n",
       "dtype: int64"
      ]
     },
     "execution_count": 79,
     "metadata": {},
     "output_type": "execute_result"
    }
   ],
   "source": [
    "df_train.isnull().sum()"
   ]
  },
  {
   "cell_type": "markdown",
   "metadata": {
    "colab_type": "text",
    "id": "Emm__20CqEbr"
   },
   "source": [
    "As we can observe workclass, occupation and native-country features contain missing values 1836, 1843 and 583 values to be exact.\n",
    "\n",
    "* Workclass and occupation are both considerably important features if we want to predict is someone earns more than 50k\n",
    "\n",
    "* Native-country is the most delicate feature, due to changing with the median will affect to the dataset. We will try to infer the best age by group or class."
   ]
  },
  {
   "cell_type": "code",
   "execution_count": 80,
   "metadata": {
    "colab": {
     "base_uri": "https://localhost:8080/",
     "height": 311
    },
    "colab_type": "code",
    "executionInfo": {
     "elapsed": 5476,
     "status": "ok",
     "timestamp": 1578781169582,
     "user": {
      "displayName": "Àlex Valls",
      "photoUrl": "",
      "userId": "01219145643472682283"
     },
     "user_tz": -60
    },
    "id": "aaWJGVhIqEb_",
    "outputId": "00d30c11-88ad-45c1-88e9-f033b0a6fca0"
   },
   "outputs": [
    {
     "data": {
      "text/plain": [
       "age              0\n",
       "workclass        0\n",
       "fnlwgt           0\n",
       "education        0\n",
       "educationNum     0\n",
       "maritalStatus    0\n",
       "occupation       0\n",
       "relationship     0\n",
       "race             0\n",
       "sex              0\n",
       "capitalGain      0\n",
       "capitalLoss      0\n",
       "hoursWeek        0\n",
       "nativeCountry    0\n",
       "target           0\n",
       "dtype: int64"
      ]
     },
     "execution_count": 80,
     "metadata": {},
     "output_type": "execute_result"
    }
   ],
   "source": [
    "#Drops rows with NaN values\n",
    "df_train = df_train.dropna()\n",
    "df_train = df_train.reset_index(drop=True)\n",
    "df_train.isnull().sum()"
   ]
  },
  {
   "cell_type": "code",
   "execution_count": 81,
   "metadata": {
    "colab": {},
    "colab_type": "code",
    "id": "Kmwl_A5qqEcN"
   },
   "outputs": [],
   "source": [
    "df_train = df_train.drop(['fnlwgt'], axis=1)"
   ]
  },
  {
   "cell_type": "markdown",
   "metadata": {
    "colab_type": "text",
    "id": "2fVwAMjYqEcZ"
   },
   "source": [
    "## Data skewness\n"
   ]
  },
  {
   "cell_type": "markdown",
   "metadata": {
    "colab_type": "text",
    "id": "rys0a1BcqEcj"
   },
   "source": [
    "Before moving on to converting the categorical features, we're going to deal with the skewness and outliers from the numeric features:\n",
    "\n",
    "As we can observe in the above distribution graphs the majority of the features are far from the normal distribution. Moreover, we can observe that some of the features have positive skewness (right) and there is not any negative skewness (left). In orther to achieve a normal distribution in these features we will use the next transformations:\n",
    "* **Positive skewed features**:\n",
    "       - Square root tranformation"
   ]
  },
  {
   "cell_type": "code",
   "execution_count": 82,
   "metadata": {
    "colab": {
     "base_uri": "https://localhost:8080/",
     "height": 207
    },
    "colab_type": "code",
    "executionInfo": {
     "elapsed": 6805,
     "status": "ok",
     "timestamp": 1578781170949,
     "user": {
      "displayName": "Àlex Valls",
      "photoUrl": "",
      "userId": "01219145643472682283"
     },
     "user_tz": -60
    },
    "id": "fia2VeJYqEcm",
    "outputId": "656e55b4-effe-4e3d-b39f-09055e2e1de6"
   },
   "outputs": [
    {
     "data": {
      "image/png": "[encoded data removed]",
      "text/plain": [
       "<Figure size 1152x360 with 5 Axes>"
      ]
     },
     "metadata": {},
     "output_type": "display_data"
    }
   ],
   "source": [
    "data_columns = df_train._get_numeric_data().columns.values\n",
    "plot_columns = 7\n",
    "number_of_columns = math.ceil(len(data_columns)/plot_columns)\n",
    "number_of_rows = math.ceil((len(data_columns))/number_of_columns)\n",
    "\n",
    "plt.figure(figsize=(16,5))\n",
    "\n",
    "# plot distribution\n",
    "for i in range(0, len(data_columns)):\n",
    "    plt.subplot(number_of_columns + 1, number_of_rows, i+1)\n",
    "    sns.distplot(df_train[data_columns[i]], kde=True) "
   ]
  },
  {
   "cell_type": "markdown",
   "metadata": {
    "colab_type": "text",
    "id": "Ch_hd5jOqEcz"
   },
   "source": [
    "We are not going to touch 'capitalGain' and 'capitalLoss' because there are too many zeros in both columns, and treating the outliers or skewness would erase whatever data we have with the overwhelming number of zeros we have there. EducationNum is not really a numerical continuous data column, is the numeric code of the type of education held by the Census Bureau, so we are not going to change it."
   ]
  },
  {
   "cell_type": "code",
   "execution_count": 66,
   "metadata": {
    "colab": {},
    "colab_type": "code",
    "id": "9Th2RciuqEc5"
   },
   "outputs": [],
   "source": [
    "positively_skewed_cols = ['age', 'hoursWeek']"
   ]
  },
  {
   "cell_type": "code",
   "execution_count": 67,
   "metadata": {
    "colab": {},
    "colab_type": "code",
    "id": "xdLVFvoCqEdH"
   },
   "outputs": [],
   "source": [
    "for col in df_train._get_numeric_data().columns:\n",
    "    if col in positively_skewed_cols:\n",
    "        df_train[col] = df_train[col].apply(lambda x : np.sqrt(x)) "
   ]
  },
  {
   "cell_type": "markdown",
   "metadata": {
    "colab_type": "text",
    "id": "A3eQxtf7qEdS"
   },
   "source": [
    "Plot and see it worked:"
   ]
  },
  {
   "cell_type": "code",
   "execution_count": 68,
   "metadata": {
    "colab": {
     "base_uri": "https://localhost:8080/",
     "height": 201
    },
    "colab_type": "code",
    "executionInfo": {
     "elapsed": 8385,
     "status": "ok",
     "timestamp": 1578781172571,
     "user": {
      "displayName": "Àlex Valls",
      "photoUrl": "",
      "userId": "01219145643472682283"
     },
     "user_tz": -60
    },
    "id": "9FaoHofIqEdW",
    "outputId": "82c104a9-f9dd-42b8-b596-b074e3088f86"
   },
   "outputs": [
    {
     "data": {
      "image/png": "[encoded data removed]",
      "text/plain": [
       "<Figure size 1152x360 with 5 Axes>"
      ]
     },
     "metadata": {},
     "output_type": "display_data"
    }
   ],
   "source": [
    "data_columns = df_train._get_numeric_data().columns.values\n",
    "plot_columns = 7\n",
    "number_of_columns = math.ceil(len(data_columns)/plot_columns)\n",
    "number_of_rows = math.ceil((len(data_columns))/number_of_columns)\n",
    "\n",
    "plt.figure(figsize=(16,5))\n",
    "\n",
    "# plot distribution\n",
    "for i in range(0, len(data_columns)):\n",
    "    plt.subplot(number_of_columns + 1, number_of_rows, i+1)\n",
    "    sns.distplot(df_train[data_columns[i]], kde=True) "
   ]
  },
  {
   "cell_type": "markdown",
   "metadata": {
    "colab_type": "text",
    "id": "M3Vc8BdLqEdm"
   },
   "source": [
    "## Detect Outliers\n",
    "\n",
    "Only numeric features can be fixed skew and outliers"
   ]
  },
  {
   "cell_type": "markdown",
   "metadata": {
    "colab_type": "text",
    "id": "RaccEqUqqEdq"
   },
   "source": [
    "### Box plots of the data"
   ]
  },
  {
   "cell_type": "code",
   "execution_count": 18,
   "metadata": {
    "colab": {
     "base_uri": "https://localhost:8080/",
     "height": 729
    },
    "colab_type": "code",
    "executionInfo": {
     "elapsed": 9505,
     "status": "ok",
     "timestamp": 1578781173721,
     "user": {
      "displayName": "Àlex Valls",
      "photoUrl": "",
      "userId": "01219145643472682283"
     },
     "user_tz": -60
    },
    "id": "XZJs6PInqEdt",
    "outputId": "467f3904-a6db-41a9-e55c-12cbe88cc0e1"
   },
   "outputs": [
    {
     "data": {
      "image/png": "[encoded data removed]",
      "text/plain": [
       "<Figure size 1080x216 with 5 Axes>"
      ]
     },
     "metadata": {
      "needs_background": "light"
     },
     "output_type": "display_data"
    }
   ],
   "source": [
    "data_columns = df_train._get_numeric_data().columns.values\n",
    "plot_columns = 7\n",
    "number_of_columns = math.ceil(len(data_columns)/plot_columns)\n",
    "number_of_rows = math.ceil((len(data_columns))/number_of_columns)\n",
    "\n",
    "plt.figure(figsize=(15,3))\n",
    "for i in range(0,len(data_columns)):\n",
    "    plt.subplot(number_of_columns, number_of_rows, i+1)\n",
    "    sns.set_style('whitegrid')\n",
    "    sns.boxplot(df_train[data_columns[i]],palette='viridis',orient='v')\n",
    "    plt.tight_layout()"
   ]
  },
  {
   "cell_type": "code",
   "execution_count": 19,
   "metadata": {
    "colab": {},
    "colab_type": "code",
    "id": "nxkRT45CqEeA"
   },
   "outputs": [],
   "source": [
    "outlier_cols = ['age', 'hoursWeek']"
   ]
  },
  {
   "cell_type": "markdown",
   "metadata": {
    "colab_type": "text",
    "id": "Rkej4ohTqEeL"
   },
   "source": [
    "The interquartile range (IQR) is a measure of variability, based on dividing a data set into quartiles.\n",
    "Quartiles divide a rank-ordered data set into four equal parts. The values that divide each part are called the first, second, and third quartiles; and they are denoted by Q1, Q2, and Q3, respectively.\n",
    "* Q1 is the \"middle\" value in the first half of the rank-ordered data set.\n",
    "* Q2 is the median value in the set.\n",
    "* Q3 is the \"middle\" value in the second half of the rank-ordered data set.\n",
    "The interquartile range (IQR) is equal to Q3 minus Q1.\n",
    "   * **upperbound** = IQR * 1.5 + Q3 \n",
    "   * **lowerbound** = IQR * (-1.5) + Q1\n",
    "If the data is higher than IQR*1.5 + Q3 or lower than the IQR * (-1.5) + Q1 it would be an outlier and we can replace it by the upper or lower bound."
   ]
  },
  {
   "cell_type": "code",
   "execution_count": 20,
   "metadata": {
    "colab": {},
    "colab_type": "code",
    "id": "Y9MfWbdbqEeO"
   },
   "outputs": [],
   "source": [
    "for col in outlier_cols: \n",
    "    quartile_1, quartile_3 = np.percentile(df_train[col], [25, 75])\n",
    "    iqr = quartile_3 - quartile_1\n",
    "    lower_bound = quartile_1 - (iqr * 1.5)\n",
    "    upper_bound = quartile_3 + (iqr * 1.5)\n",
    "    df_train[col] = np.where(df_train[col] > upper_bound, upper_bound, df_train[col])\n",
    "    df_train[col] = np.where(df_train[col] < lower_bound, lower_bound, df_train[col])"
   ]
  },
  {
   "cell_type": "code",
   "execution_count": 21,
   "metadata": {
    "colab": {
     "base_uri": "https://localhost:8080/",
     "height": 225
    },
    "colab_type": "code",
    "executionInfo": {
     "elapsed": 10500,
     "status": "ok",
     "timestamp": 1578781174762,
     "user": {
      "displayName": "Àlex Valls",
      "photoUrl": "",
      "userId": "01219145643472682283"
     },
     "user_tz": -60
    },
    "id": "IjiEtMQmqEeV",
    "outputId": "bab04236-07bc-49e6-852c-472489eee4ce"
   },
   "outputs": [
    {
     "data": {
      "image/png": "[encoded data removed]",
      "text/plain": [
       "<Figure size 1080x216 with 5 Axes>"
      ]
     },
     "metadata": {},
     "output_type": "display_data"
    }
   ],
   "source": [
    "data_columns = df_train._get_numeric_data().columns.values\n",
    "plot_columns = 7\n",
    "number_of_columns = math.ceil(len(data_columns)/plot_columns)\n",
    "number_of_rows = math.ceil((len(data_columns))/number_of_columns)\n",
    "\n",
    "plt.figure(figsize=(15,3))\n",
    "for i in range(0,len(data_columns)):\n",
    "    plt.subplot(number_of_columns, number_of_rows, i+1)\n",
    "    sns.set_style('whitegrid')\n",
    "    sns.boxplot(df_train[data_columns[i]],palette='viridis',orient='v')\n",
    "    plt.tight_layout()"
   ]
  },
  {
   "cell_type": "markdown",
   "metadata": {
    "colab_type": "text",
    "id": "DxltwSTcqEed"
   },
   "source": [
    "## Convert categorical features<a class=\"anchor\" id=\"convertion\"></a>\n",
    "\n",
    "If they are not numeric columns then we have to convert the categorical features into something we can measure. If we have categories that are binary (for example, “Sex”) then they can be 0 or 1 and we use LabelEncoder, otherwise we will divide the options and create a column for each option inside a feature that will have a 0 or 1 value."
   ]
  },
  {
   "cell_type": "code",
   "execution_count": 22,
   "metadata": {
    "colab": {
     "base_uri": "https://localhost:8080/",
     "height": 256
    },
    "colab_type": "code",
    "executionInfo": {
     "elapsed": 10468,
     "status": "ok",
     "timestamp": 1578781174765,
     "user": {
      "displayName": "Àlex Valls",
      "photoUrl": "",
      "userId": "01219145643472682283"
     },
     "user_tz": -60
    },
    "id": "gsIHx1BHqEen",
    "outputId": "9ab704e0-1b7b-4b50-8aba-0f7789061e92"
   },
   "outputs": [
    {
     "name": "stdout",
     "output_type": "stream",
     "text": [
      "<class 'pandas.core.frame.DataFrame'>\n",
      "RangeIndex: 30162 entries, 0 to 30161\n",
      "Data columns (total 8 columns):\n",
      "workclass        30162 non-null object\n",
      "maritalStatus    30162 non-null object\n",
      "occupation       30162 non-null object\n",
      "relationship     30162 non-null object\n",
      "race             30162 non-null object\n",
      "sex              30162 non-null object\n",
      "nativeCountry    30162 non-null object\n",
      "target           30162 non-null object\n",
      "dtypes: object(8)\n",
      "memory usage: 1.8+ MB\n"
     ]
    }
   ],
   "source": [
    "df_train = df_train.drop(['education'], axis=1)\n",
    "\n",
    "df_train.select_dtypes(include=['object']).info()"
   ]
  },
  {
   "cell_type": "code",
   "execution_count": 23,
   "metadata": {
    "colab": {
     "base_uri": "https://localhost:8080/",
     "height": 206
    },
    "colab_type": "code",
    "executionInfo": {
     "elapsed": 10437,
     "status": "ok",
     "timestamp": 1578781174767,
     "user": {
      "displayName": "Àlex Valls",
      "photoUrl": "",
      "userId": "01219145643472682283"
     },
     "user_tz": -60
    },
    "id": "droPBpCrqEe4",
    "outputId": "cf4f1f69-8147-469d-de1d-aaa6b3105103"
   },
   "outputs": [
    {
     "data": {
      "text/html": [
       "<div>\n",
       "<style scoped>\n",
       "    .dataframe tbody tr th:only-of-type {\n",
       "        vertical-align: middle;\n",
       "    }\n",
       "\n",
       "    .dataframe tbody tr th {\n",
       "        vertical-align: top;\n",
       "    }\n",
       "\n",
       "    .dataframe thead th {\n",
       "        text-align: right;\n",
       "    }\n",
       "</style>\n",
       "<table border=\"1\" class=\"dataframe\">\n",
       "  <thead>\n",
       "    <tr style=\"text-align: right;\">\n",
       "      <th></th>\n",
       "      <th>age</th>\n",
       "      <th>workclass</th>\n",
       "      <th>educationNum</th>\n",
       "      <th>maritalStatus</th>\n",
       "      <th>occupation</th>\n",
       "      <th>relationship</th>\n",
       "      <th>race</th>\n",
       "      <th>sex</th>\n",
       "      <th>capitalGain</th>\n",
       "      <th>capitalLoss</th>\n",
       "      <th>hoursWeek</th>\n",
       "      <th>nativeCountry</th>\n",
       "      <th>target</th>\n",
       "    </tr>\n",
       "  </thead>\n",
       "  <tbody>\n",
       "    <tr>\n",
       "      <td>0</td>\n",
       "      <td>6.244998</td>\n",
       "      <td>State-gov</td>\n",
       "      <td>13</td>\n",
       "      <td>Never-married</td>\n",
       "      <td>Adm-clerical</td>\n",
       "      <td>Not-in-family</td>\n",
       "      <td>White</td>\n",
       "      <td>1</td>\n",
       "      <td>2174</td>\n",
       "      <td>0</td>\n",
       "      <td>6.324555</td>\n",
       "      <td>United-States</td>\n",
       "      <td>0</td>\n",
       "    </tr>\n",
       "    <tr>\n",
       "      <td>1</td>\n",
       "      <td>7.071068</td>\n",
       "      <td>Self-emp-not-inc</td>\n",
       "      <td>13</td>\n",
       "      <td>Married-civ-spouse</td>\n",
       "      <td>Exec-managerial</td>\n",
       "      <td>Husband</td>\n",
       "      <td>White</td>\n",
       "      <td>1</td>\n",
       "      <td>0</td>\n",
       "      <td>0</td>\n",
       "      <td>5.749082</td>\n",
       "      <td>United-States</td>\n",
       "      <td>0</td>\n",
       "    </tr>\n",
       "    <tr>\n",
       "      <td>2</td>\n",
       "      <td>6.164414</td>\n",
       "      <td>Private</td>\n",
       "      <td>9</td>\n",
       "      <td>Divorced</td>\n",
       "      <td>Handlers-cleaners</td>\n",
       "      <td>Not-in-family</td>\n",
       "      <td>White</td>\n",
       "      <td>1</td>\n",
       "      <td>0</td>\n",
       "      <td>0</td>\n",
       "      <td>6.324555</td>\n",
       "      <td>United-States</td>\n",
       "      <td>0</td>\n",
       "    </tr>\n",
       "    <tr>\n",
       "      <td>3</td>\n",
       "      <td>7.280110</td>\n",
       "      <td>Private</td>\n",
       "      <td>7</td>\n",
       "      <td>Married-civ-spouse</td>\n",
       "      <td>Handlers-cleaners</td>\n",
       "      <td>Husband</td>\n",
       "      <td>Black</td>\n",
       "      <td>1</td>\n",
       "      <td>0</td>\n",
       "      <td>0</td>\n",
       "      <td>6.324555</td>\n",
       "      <td>United-States</td>\n",
       "      <td>0</td>\n",
       "    </tr>\n",
       "    <tr>\n",
       "      <td>4</td>\n",
       "      <td>5.291503</td>\n",
       "      <td>Private</td>\n",
       "      <td>13</td>\n",
       "      <td>Married-civ-spouse</td>\n",
       "      <td>Prof-specialty</td>\n",
       "      <td>Wife</td>\n",
       "      <td>Black</td>\n",
       "      <td>0</td>\n",
       "      <td>0</td>\n",
       "      <td>0</td>\n",
       "      <td>6.324555</td>\n",
       "      <td>Cuba</td>\n",
       "      <td>0</td>\n",
       "    </tr>\n",
       "  </tbody>\n",
       "</table>\n",
       "</div>"
      ],
      "text/plain": [
       "        age          workclass  educationNum        maritalStatus  \\\n",
       "0  6.244998          State-gov            13        Never-married   \n",
       "1  7.071068   Self-emp-not-inc            13   Married-civ-spouse   \n",
       "2  6.164414            Private             9             Divorced   \n",
       "3  7.280110            Private             7   Married-civ-spouse   \n",
       "4  5.291503            Private            13   Married-civ-spouse   \n",
       "\n",
       "           occupation    relationship    race  sex  capitalGain  capitalLoss  \\\n",
       "0        Adm-clerical   Not-in-family   White    1         2174            0   \n",
       "1     Exec-managerial         Husband   White    1            0            0   \n",
       "2   Handlers-cleaners   Not-in-family   White    1            0            0   \n",
       "3   Handlers-cleaners         Husband   Black    1            0            0   \n",
       "4      Prof-specialty            Wife   Black    0            0            0   \n",
       "\n",
       "   hoursWeek   nativeCountry  target  \n",
       "0   6.324555   United-States       0  \n",
       "1   5.749082   United-States       0  \n",
       "2   6.324555   United-States       0  \n",
       "3   6.324555   United-States       0  \n",
       "4   6.324555            Cuba       0  "
      ]
     },
     "execution_count": 23,
     "metadata": {},
     "output_type": "execute_result"
    }
   ],
   "source": [
    "le_sex = LabelEncoder()\n",
    "le_sex.fit(df_train.sex)\n",
    "df_train['sex'] = le_sex.transform(df_train.sex)\n",
    "\n",
    "le_target = LabelEncoder()\n",
    "le_target.fit(df_train.target)\n",
    "df_train['target'] = le_target.transform(df_train.target)\n",
    "\n",
    "df_train.head()"
   ]
  },
  {
   "cell_type": "code",
   "execution_count": 24,
   "metadata": {
    "colab": {
     "base_uri": "https://localhost:8080/",
     "height": 219
    },
    "colab_type": "code",
    "executionInfo": {
     "elapsed": 10416,
     "status": "ok",
     "timestamp": 1578781174768,
     "user": {
      "displayName": "Àlex Valls",
      "photoUrl": "",
      "userId": "01219145643472682283"
     },
     "user_tz": -60
    },
    "id": "PPcgv397qEe_",
    "outputId": "a199edd7-b2e0-4f4e-f9d2-7f729b29aa4b"
   },
   "outputs": [
    {
     "name": "stdout",
     "output_type": "stream",
     "text": [
      "<class 'pandas.core.frame.DataFrame'>\n",
      "RangeIndex: 30162 entries, 0 to 30161\n",
      "Data columns (total 6 columns):\n",
      "workclass        30162 non-null object\n",
      "maritalStatus    30162 non-null object\n",
      "occupation       30162 non-null object\n",
      "relationship     30162 non-null object\n",
      "race             30162 non-null object\n",
      "nativeCountry    30162 non-null object\n",
      "dtypes: object(6)\n",
      "memory usage: 1.4+ MB\n"
     ]
    }
   ],
   "source": [
    "df_train.select_dtypes(include=['object']).info()"
   ]
  },
  {
   "cell_type": "code",
   "execution_count": 25,
   "metadata": {
    "colab": {
     "base_uri": "https://localhost:8080/",
     "height": 182
    },
    "colab_type": "code",
    "executionInfo": {
     "elapsed": 10392,
     "status": "ok",
     "timestamp": 1578781174770,
     "user": {
      "displayName": "Àlex Valls",
      "photoUrl": "",
      "userId": "01219145643472682283"
     },
     "user_tz": -60
    },
    "id": "kbXUyWkSqEfF",
    "outputId": "928a9a67-13da-4a66-861b-26fb40122e2f",
    "scrolled": true
   },
   "outputs": [
    {
     "data": {
      "text/plain": [
       "array([' United-States', ' Cuba', ' Jamaica', ' India', ' Mexico',\n",
       "       ' Puerto-Rico', ' Honduras', ' England', ' Canada', ' Germany',\n",
       "       ' Iran', ' Philippines', ' Poland', ' Columbia', ' Cambodia',\n",
       "       ' Thailand', ' Ecuador', ' Laos', ' Taiwan', ' Haiti', ' Portugal',\n",
       "       ' Dominican-Republic', ' El-Salvador', ' France', ' Guatemala',\n",
       "       ' Italy', ' China', ' South', ' Japan', ' Yugoslavia', ' Peru',\n",
       "       ' Outlying-US(Guam-USVI-etc)', ' Scotland', ' Trinadad&Tobago',\n",
       "       ' Greece', ' Nicaragua', ' Vietnam', ' Hong', ' Ireland',\n",
       "       ' Hungary', ' Holand-Netherlands'], dtype=object)"
      ]
     },
     "execution_count": 25,
     "metadata": {},
     "output_type": "execute_result"
    }
   ],
   "source": [
    "country = df_train['nativeCountry']\n",
    "country.unique()"
   ]
  },
  {
   "cell_type": "code",
   "execution_count": 26,
   "metadata": {
    "colab": {
     "base_uri": "https://localhost:8080/",
     "height": 788
    },
    "colab_type": "code",
    "executionInfo": {
     "elapsed": 10368,
     "status": "ok",
     "timestamp": 1578781174770,
     "user": {
      "displayName": "Àlex Valls",
      "photoUrl": "",
      "userId": "01219145643472682283"
     },
     "user_tz": -60
    },
    "id": "3RQG7SAwqEfM",
    "outputId": "bf7a3421-3e3f-4114-e1f8-ba865166ae20"
   },
   "outputs": [
    {
     "data": {
      "text/plain": [
       " United-States                 27504\n",
       " Mexico                          610\n",
       " Philippines                     188\n",
       " Germany                         128\n",
       " Puerto-Rico                     109\n",
       " Canada                          107\n",
       " El-Salvador                     100\n",
       " India                           100\n",
       " Cuba                             92\n",
       " England                          86\n",
       " Jamaica                          80\n",
       " South                            71\n",
       " China                            68\n",
       " Italy                            68\n",
       " Dominican-Republic               67\n",
       " Vietnam                          64\n",
       " Guatemala                        63\n",
       " Japan                            59\n",
       " Columbia                         56\n",
       " Poland                           56\n",
       " Haiti                            42\n",
       " Taiwan                           42\n",
       " Iran                             42\n",
       " Portugal                         34\n",
       " Nicaragua                        33\n",
       " Peru                             30\n",
       " Greece                           29\n",
       " Ecuador                          27\n",
       " France                           27\n",
       " Ireland                          24\n",
       " Hong                             19\n",
       " Trinadad&Tobago                  18\n",
       " Cambodia                         18\n",
       " Laos                             17\n",
       " Thailand                         17\n",
       " Yugoslavia                       16\n",
       " Outlying-US(Guam-USVI-etc)       14\n",
       " Hungary                          13\n",
       " Honduras                         12\n",
       " Scotland                         11\n",
       " Holand-Netherlands                1\n",
       "Name: nativeCountry, dtype: int64"
      ]
     },
     "execution_count": 26,
     "metadata": {},
     "output_type": "execute_result"
    }
   ],
   "source": [
    "country.value_counts()"
   ]
  },
  {
   "cell_type": "code",
   "execution_count": 27,
   "metadata": {
    "colab": {},
    "colab_type": "code",
    "id": "0HuKt8PiqEfh"
   },
   "outputs": [],
   "source": [
    "df_no_country = df_train.drop(['nativeCountry'], axis=1)"
   ]
  },
  {
   "cell_type": "markdown",
   "metadata": {
    "colab_type": "text",
    "id": "TzVpoL8YqEfn"
   },
   "source": [
    "### Workclass"
   ]
  },
  {
   "cell_type": "code",
   "execution_count": 28,
   "metadata": {
    "colab": {
     "base_uri": "https://localhost:8080/",
     "height": 175
    },
    "colab_type": "code",
    "executionInfo": {
     "elapsed": 10339,
     "status": "ok",
     "timestamp": 1578781174773,
     "user": {
      "displayName": "Àlex Valls",
      "photoUrl": "",
      "userId": "01219145643472682283"
     },
     "user_tz": -60
    },
    "id": "X2Ri9Y9iqEfp",
    "outputId": "8f57ea5d-e0f0-4089-d5fb-cf7dad109fa8"
   },
   "outputs": [
    {
     "data": {
      "text/html": [
       "<div>\n",
       "<style scoped>\n",
       "    .dataframe tbody tr th:only-of-type {\n",
       "        vertical-align: middle;\n",
       "    }\n",
       "\n",
       "    .dataframe tbody tr th {\n",
       "        vertical-align: top;\n",
       "    }\n",
       "\n",
       "    .dataframe thead th {\n",
       "        text-align: right;\n",
       "    }\n",
       "</style>\n",
       "<table border=\"1\" class=\"dataframe\">\n",
       "  <thead>\n",
       "    <tr style=\"text-align: right;\">\n",
       "      <th></th>\n",
       "      <th>workclass</th>\n",
       "      <th>maritalStatus</th>\n",
       "      <th>occupation</th>\n",
       "      <th>relationship</th>\n",
       "      <th>race</th>\n",
       "      <th>nativeCountry</th>\n",
       "    </tr>\n",
       "  </thead>\n",
       "  <tbody>\n",
       "    <tr>\n",
       "      <td>count</td>\n",
       "      <td>30162</td>\n",
       "      <td>30162</td>\n",
       "      <td>30162</td>\n",
       "      <td>30162</td>\n",
       "      <td>30162</td>\n",
       "      <td>30162</td>\n",
       "    </tr>\n",
       "    <tr>\n",
       "      <td>unique</td>\n",
       "      <td>7</td>\n",
       "      <td>7</td>\n",
       "      <td>14</td>\n",
       "      <td>6</td>\n",
       "      <td>5</td>\n",
       "      <td>41</td>\n",
       "    </tr>\n",
       "    <tr>\n",
       "      <td>top</td>\n",
       "      <td>Private</td>\n",
       "      <td>Married-civ-spouse</td>\n",
       "      <td>Prof-specialty</td>\n",
       "      <td>Husband</td>\n",
       "      <td>White</td>\n",
       "      <td>United-States</td>\n",
       "    </tr>\n",
       "    <tr>\n",
       "      <td>freq</td>\n",
       "      <td>22286</td>\n",
       "      <td>14065</td>\n",
       "      <td>4038</td>\n",
       "      <td>12463</td>\n",
       "      <td>25933</td>\n",
       "      <td>27504</td>\n",
       "    </tr>\n",
       "  </tbody>\n",
       "</table>\n",
       "</div>"
      ],
      "text/plain": [
       "       workclass        maritalStatus       occupation relationship    race  \\\n",
       "count      30162                30162            30162        30162   30162   \n",
       "unique         7                    7               14            6       5   \n",
       "top      Private   Married-civ-spouse   Prof-specialty      Husband   White   \n",
       "freq       22286                14065             4038        12463   25933   \n",
       "\n",
       "         nativeCountry  \n",
       "count            30162  \n",
       "unique              41  \n",
       "top      United-States  \n",
       "freq             27504  "
      ]
     },
     "execution_count": 28,
     "metadata": {},
     "output_type": "execute_result"
    }
   ],
   "source": [
    "df_train.describe(include='O')"
   ]
  },
  {
   "cell_type": "code",
   "execution_count": 29,
   "metadata": {
    "colab": {
     "base_uri": "https://localhost:8080/",
     "height": 164
    },
    "colab_type": "code",
    "executionInfo": {
     "elapsed": 10316,
     "status": "ok",
     "timestamp": 1578781174774,
     "user": {
      "displayName": "Àlex Valls",
      "photoUrl": "",
      "userId": "01219145643472682283"
     },
     "user_tz": -60
    },
    "id": "jjIR3z0rqEfw",
    "outputId": "3a4a902f-d27d-44c7-fe06-29c685136bca"
   },
   "outputs": [
    {
     "data": {
      "text/plain": [
       " Private             22286\n",
       " Self-emp-not-inc     2499\n",
       " Local-gov            2067\n",
       " State-gov            1279\n",
       " Self-emp-inc         1074\n",
       " Federal-gov           943\n",
       " Without-pay            14\n",
       "Name: workclass, dtype: int64"
      ]
     },
     "execution_count": 29,
     "metadata": {},
     "output_type": "execute_result"
    }
   ],
   "source": [
    "df_train['workclass'].value_counts()"
   ]
  },
  {
   "cell_type": "code",
   "execution_count": 30,
   "metadata": {
    "colab": {
     "base_uri": "https://localhost:8080/",
     "height": 256
    },
    "colab_type": "code",
    "executionInfo": {
     "elapsed": 10292,
     "status": "ok",
     "timestamp": 1578781174774,
     "user": {
      "displayName": "Àlex Valls",
      "photoUrl": "",
      "userId": "01219145643472682283"
     },
     "user_tz": -60
    },
    "id": "NA0617GPqEf4",
    "outputId": "447bcb6f-bacb-40b6-ebde-c44b755f5743"
   },
   "outputs": [
    {
     "data": {
      "text/plain": [
       "age              0\n",
       "workclass        0\n",
       "educationNum     0\n",
       "maritalStatus    0\n",
       "occupation       0\n",
       "relationship     0\n",
       "race             0\n",
       "sex              0\n",
       "capitalGain      0\n",
       "capitalLoss      0\n",
       "hoursWeek        0\n",
       "target           0\n",
       "dtype: int64"
      ]
     },
     "execution_count": 30,
     "metadata": {},
     "output_type": "execute_result"
    }
   ],
   "source": [
    "col_n = 'workclass'\n",
    "my_size = ' Without-pay'\n",
    "df_no_volunteers = df_no_country.query(\"{0} != '{1}'\".format(col_n, my_size))\n",
    "df_no_volunteers['workclass'].value_counts()\n",
    "\n",
    "df_no_volunteers.isnull().sum()"
   ]
  },
  {
   "cell_type": "code",
   "execution_count": 31,
   "metadata": {
    "colab": {},
    "colab_type": "code",
    "id": "xY0HSXCKqEf-"
   },
   "outputs": [],
   "source": [
    "workclass_dictionary = {\n",
    "    \" Private\": \"Private\",\n",
    "    \" Self-emp-not-inc\": \"Self-employed\",\n",
    "    \" Self-emp-inc\": \"Self-employed\",\n",
    "    \" Federal-gov\": \"Government\",\n",
    "    \" Local-gov\": \"Government\",\n",
    "    \" State-gov\" : \"Government\"\n",
    "}"
   ]
  },
  {
   "cell_type": "code",
   "execution_count": 32,
   "metadata": {
    "colab": {
     "base_uri": "https://localhost:8080/",
     "height": 256
    },
    "colab_type": "code",
    "executionInfo": {
     "elapsed": 10262,
     "status": "ok",
     "timestamp": 1578781174776,
     "user": {
      "displayName": "Àlex Valls",
      "photoUrl": "",
      "userId": "01219145643472682283"
     },
     "user_tz": -60
    },
    "id": "M4qxsaK8qEgC",
    "outputId": "3d76c4c7-f284-4f63-ae4d-d1ab06c6096f"
   },
   "outputs": [
    {
     "data": {
      "text/plain": [
       "age              0\n",
       "workclass        0\n",
       "educationNum     0\n",
       "maritalStatus    0\n",
       "occupation       0\n",
       "relationship     0\n",
       "race             0\n",
       "sex              0\n",
       "capitalGain      0\n",
       "capitalLoss      0\n",
       "hoursWeek        0\n",
       "target           0\n",
       "dtype: int64"
      ]
     },
     "execution_count": 32,
     "metadata": {},
     "output_type": "execute_result"
    }
   ],
   "source": [
    "# a map of more aggregated title\n",
    "# we map each title\n",
    "df_no_volunteers['workclass'] = df_no_volunteers.workclass.map(workclass_dictionary)\n",
    "df_no_volunteers.head()\n",
    "\n",
    "df_no_volunteers.isnull().sum()"
   ]
  },
  {
   "cell_type": "code",
   "execution_count": 33,
   "metadata": {
    "colab": {
     "base_uri": "https://localhost:8080/",
     "height": 293
    },
    "colab_type": "code",
    "executionInfo": {
     "elapsed": 10232,
     "status": "ok",
     "timestamp": 1578781174777,
     "user": {
      "displayName": "Àlex Valls",
      "photoUrl": "",
      "userId": "01219145643472682283"
     },
     "user_tz": -60
    },
    "id": "moQ3c_ghqEgS",
    "outputId": "e4222f1a-ab6c-4d84-fe7a-5f0a3f2d1043"
   },
   "outputs": [
    {
     "data": {
      "text/plain": [
       "age              0\n",
       "educationNum     0\n",
       "maritalStatus    0\n",
       "occupation       0\n",
       "relationship     0\n",
       "race             0\n",
       "sex              0\n",
       "capitalGain      0\n",
       "capitalLoss      0\n",
       "hoursWeek        0\n",
       "target           0\n",
       "Government       0\n",
       "Private          0\n",
       "Self-employed    0\n",
       "dtype: int64"
      ]
     },
     "execution_count": 33,
     "metadata": {},
     "output_type": "execute_result"
    }
   ],
   "source": [
    "df_workclass = pd.get_dummies(df_no_volunteers.workclass)\n",
    "df_train_workclass = pd.concat([df_no_volunteers, df_workclass],axis=1)\n",
    "\n",
    "#Erase title from df\n",
    "df_train_workclass = df_train_workclass.drop(['workclass'], axis=1)\n",
    "df_train_workclass.head()\n",
    "df_train_workclass.isnull().sum()"
   ]
  },
  {
   "cell_type": "code",
   "execution_count": 34,
   "metadata": {
    "colab": {
     "base_uri": "https://localhost:8080/",
     "height": 932
    },
    "colab_type": "code",
    "executionInfo": {
     "elapsed": 11810,
     "status": "ok",
     "timestamp": 1578781176380,
     "user": {
      "displayName": "Àlex Valls",
      "photoUrl": "",
      "userId": "01219145643472682283"
     },
     "user_tz": -60
    },
    "id": "7c21nCzWqEgq",
    "outputId": "d0c10e71-2919-42d7-b5b9-b7b2c570151d"
   },
   "outputs": [
    {
     "data": {
      "text/plain": [
       "<matplotlib.axes._subplots.AxesSubplot at 0x7fbfda294a90>"
      ]
     },
     "execution_count": 34,
     "metadata": {},
     "output_type": "execute_result"
    },
    {
     "data": {
      "image/png": "[encoded data removed]",
      "text/plain": [
       "<Figure size 1152x1008 with 2 Axes>"
      ]
     },
     "metadata": {},
     "output_type": "display_data"
    }
   ],
   "source": [
    "corr = df_train_workclass.corr()\n",
    "plt.figure(figsize=(16,14))\n",
    "sns.heatmap(corr, annot=True, cmap = 'viridis')"
   ]
  },
  {
   "cell_type": "code",
   "execution_count": 35,
   "metadata": {
    "colab": {
     "base_uri": "https://localhost:8080/",
     "height": 424
    },
    "colab_type": "code",
    "executionInfo": {
     "elapsed": 11783,
     "status": "ok",
     "timestamp": 1578781176382,
     "user": {
      "displayName": "Àlex Valls",
      "photoUrl": "",
      "userId": "01219145643472682283"
     },
     "user_tz": -60
    },
    "id": "F4WxR1SuqEg0",
    "outputId": "b8c71ba8-a97a-487c-d9e5-7d3ec2990f5d"
   },
   "outputs": [
    {
     "data": {
      "text/html": [
       "<div>\n",
       "<style scoped>\n",
       "    .dataframe tbody tr th:only-of-type {\n",
       "        vertical-align: middle;\n",
       "    }\n",
       "\n",
       "    .dataframe tbody tr th {\n",
       "        vertical-align: top;\n",
       "    }\n",
       "\n",
       "    .dataframe thead th {\n",
       "        text-align: right;\n",
       "    }\n",
       "</style>\n",
       "<table border=\"1\" class=\"dataframe\">\n",
       "  <thead>\n",
       "    <tr style=\"text-align: right;\">\n",
       "      <th></th>\n",
       "      <th>age</th>\n",
       "      <th>educationNum</th>\n",
       "      <th>maritalStatus</th>\n",
       "      <th>occupation</th>\n",
       "      <th>relationship</th>\n",
       "      <th>race</th>\n",
       "      <th>sex</th>\n",
       "      <th>capitalGain</th>\n",
       "      <th>capitalLoss</th>\n",
       "      <th>hoursWeek</th>\n",
       "      <th>target</th>\n",
       "      <th>Government</th>\n",
       "      <th>Private</th>\n",
       "      <th>Self-employed</th>\n",
       "    </tr>\n",
       "  </thead>\n",
       "  <tbody>\n",
       "    <tr>\n",
       "      <td>0</td>\n",
       "      <td>6.244998</td>\n",
       "      <td>13</td>\n",
       "      <td>Never-married</td>\n",
       "      <td>Adm-clerical</td>\n",
       "      <td>Not-in-family</td>\n",
       "      <td>White</td>\n",
       "      <td>1</td>\n",
       "      <td>2174</td>\n",
       "      <td>0</td>\n",
       "      <td>6.324555</td>\n",
       "      <td>0</td>\n",
       "      <td>1</td>\n",
       "      <td>0</td>\n",
       "      <td>0</td>\n",
       "    </tr>\n",
       "    <tr>\n",
       "      <td>1</td>\n",
       "      <td>7.071068</td>\n",
       "      <td>13</td>\n",
       "      <td>Married-civ-spouse</td>\n",
       "      <td>Exec-managerial</td>\n",
       "      <td>Husband</td>\n",
       "      <td>White</td>\n",
       "      <td>1</td>\n",
       "      <td>0</td>\n",
       "      <td>0</td>\n",
       "      <td>5.749082</td>\n",
       "      <td>0</td>\n",
       "      <td>0</td>\n",
       "      <td>0</td>\n",
       "      <td>1</td>\n",
       "    </tr>\n",
       "    <tr>\n",
       "      <td>2</td>\n",
       "      <td>6.164414</td>\n",
       "      <td>9</td>\n",
       "      <td>Divorced</td>\n",
       "      <td>Handlers-cleaners</td>\n",
       "      <td>Not-in-family</td>\n",
       "      <td>White</td>\n",
       "      <td>1</td>\n",
       "      <td>0</td>\n",
       "      <td>0</td>\n",
       "      <td>6.324555</td>\n",
       "      <td>0</td>\n",
       "      <td>0</td>\n",
       "      <td>1</td>\n",
       "      <td>0</td>\n",
       "    </tr>\n",
       "    <tr>\n",
       "      <td>3</td>\n",
       "      <td>7.280110</td>\n",
       "      <td>7</td>\n",
       "      <td>Married-civ-spouse</td>\n",
       "      <td>Handlers-cleaners</td>\n",
       "      <td>Husband</td>\n",
       "      <td>Black</td>\n",
       "      <td>1</td>\n",
       "      <td>0</td>\n",
       "      <td>0</td>\n",
       "      <td>6.324555</td>\n",
       "      <td>0</td>\n",
       "      <td>0</td>\n",
       "      <td>1</td>\n",
       "      <td>0</td>\n",
       "    </tr>\n",
       "    <tr>\n",
       "      <td>4</td>\n",
       "      <td>5.291503</td>\n",
       "      <td>13</td>\n",
       "      <td>Married-civ-spouse</td>\n",
       "      <td>Prof-specialty</td>\n",
       "      <td>Wife</td>\n",
       "      <td>Black</td>\n",
       "      <td>0</td>\n",
       "      <td>0</td>\n",
       "      <td>0</td>\n",
       "      <td>6.324555</td>\n",
       "      <td>0</td>\n",
       "      <td>0</td>\n",
       "      <td>1</td>\n",
       "      <td>0</td>\n",
       "    </tr>\n",
       "    <tr>\n",
       "      <td>...</td>\n",
       "      <td>...</td>\n",
       "      <td>...</td>\n",
       "      <td>...</td>\n",
       "      <td>...</td>\n",
       "      <td>...</td>\n",
       "      <td>...</td>\n",
       "      <td>...</td>\n",
       "      <td>...</td>\n",
       "      <td>...</td>\n",
       "      <td>...</td>\n",
       "      <td>...</td>\n",
       "      <td>...</td>\n",
       "      <td>...</td>\n",
       "      <td>...</td>\n",
       "    </tr>\n",
       "    <tr>\n",
       "      <td>30157</td>\n",
       "      <td>5.196152</td>\n",
       "      <td>12</td>\n",
       "      <td>Married-civ-spouse</td>\n",
       "      <td>Tech-support</td>\n",
       "      <td>Wife</td>\n",
       "      <td>White</td>\n",
       "      <td>0</td>\n",
       "      <td>0</td>\n",
       "      <td>0</td>\n",
       "      <td>6.164414</td>\n",
       "      <td>0</td>\n",
       "      <td>0</td>\n",
       "      <td>1</td>\n",
       "      <td>0</td>\n",
       "    </tr>\n",
       "    <tr>\n",
       "      <td>30158</td>\n",
       "      <td>6.324555</td>\n",
       "      <td>9</td>\n",
       "      <td>Married-civ-spouse</td>\n",
       "      <td>Machine-op-inspct</td>\n",
       "      <td>Husband</td>\n",
       "      <td>White</td>\n",
       "      <td>1</td>\n",
       "      <td>0</td>\n",
       "      <td>0</td>\n",
       "      <td>6.324555</td>\n",
       "      <td>1</td>\n",
       "      <td>0</td>\n",
       "      <td>1</td>\n",
       "      <td>0</td>\n",
       "    </tr>\n",
       "    <tr>\n",
       "      <td>30159</td>\n",
       "      <td>7.615773</td>\n",
       "      <td>9</td>\n",
       "      <td>Widowed</td>\n",
       "      <td>Adm-clerical</td>\n",
       "      <td>Unmarried</td>\n",
       "      <td>White</td>\n",
       "      <td>0</td>\n",
       "      <td>0</td>\n",
       "      <td>0</td>\n",
       "      <td>6.324555</td>\n",
       "      <td>0</td>\n",
       "      <td>0</td>\n",
       "      <td>1</td>\n",
       "      <td>0</td>\n",
       "    </tr>\n",
       "    <tr>\n",
       "      <td>30160</td>\n",
       "      <td>4.690416</td>\n",
       "      <td>9</td>\n",
       "      <td>Never-married</td>\n",
       "      <td>Adm-clerical</td>\n",
       "      <td>Own-child</td>\n",
       "      <td>White</td>\n",
       "      <td>1</td>\n",
       "      <td>0</td>\n",
       "      <td>0</td>\n",
       "      <td>5.749082</td>\n",
       "      <td>0</td>\n",
       "      <td>0</td>\n",
       "      <td>1</td>\n",
       "      <td>0</td>\n",
       "    </tr>\n",
       "    <tr>\n",
       "      <td>30161</td>\n",
       "      <td>7.211103</td>\n",
       "      <td>9</td>\n",
       "      <td>Married-civ-spouse</td>\n",
       "      <td>Exec-managerial</td>\n",
       "      <td>Wife</td>\n",
       "      <td>White</td>\n",
       "      <td>0</td>\n",
       "      <td>15024</td>\n",
       "      <td>0</td>\n",
       "      <td>6.324555</td>\n",
       "      <td>1</td>\n",
       "      <td>0</td>\n",
       "      <td>0</td>\n",
       "      <td>1</td>\n",
       "    </tr>\n",
       "  </tbody>\n",
       "</table>\n",
       "<p>30148 rows × 14 columns</p>\n",
       "</div>"
      ],
      "text/plain": [
       "            age  educationNum        maritalStatus          occupation  \\\n",
       "0      6.244998            13        Never-married        Adm-clerical   \n",
       "1      7.071068            13   Married-civ-spouse     Exec-managerial   \n",
       "2      6.164414             9             Divorced   Handlers-cleaners   \n",
       "3      7.280110             7   Married-civ-spouse   Handlers-cleaners   \n",
       "4      5.291503            13   Married-civ-spouse      Prof-specialty   \n",
       "...         ...           ...                  ...                 ...   \n",
       "30157  5.196152            12   Married-civ-spouse        Tech-support   \n",
       "30158  6.324555             9   Married-civ-spouse   Machine-op-inspct   \n",
       "30159  7.615773             9              Widowed        Adm-clerical   \n",
       "30160  4.690416             9        Never-married        Adm-clerical   \n",
       "30161  7.211103             9   Married-civ-spouse     Exec-managerial   \n",
       "\n",
       "         relationship    race  sex  capitalGain  capitalLoss  hoursWeek  \\\n",
       "0       Not-in-family   White    1         2174            0   6.324555   \n",
       "1             Husband   White    1            0            0   5.749082   \n",
       "2       Not-in-family   White    1            0            0   6.324555   \n",
       "3             Husband   Black    1            0            0   6.324555   \n",
       "4                Wife   Black    0            0            0   6.324555   \n",
       "...               ...     ...  ...          ...          ...        ...   \n",
       "30157            Wife   White    0            0            0   6.164414   \n",
       "30158         Husband   White    1            0            0   6.324555   \n",
       "30159       Unmarried   White    0            0            0   6.324555   \n",
       "30160       Own-child   White    1            0            0   5.749082   \n",
       "30161            Wife   White    0        15024            0   6.324555   \n",
       "\n",
       "       target  Government  Private  Self-employed  \n",
       "0           0           1        0              0  \n",
       "1           0           0        0              1  \n",
       "2           0           0        1              0  \n",
       "3           0           0        1              0  \n",
       "4           0           0        1              0  \n",
       "...       ...         ...      ...            ...  \n",
       "30157       0           0        1              0  \n",
       "30158       1           0        1              0  \n",
       "30159       0           0        1              0  \n",
       "30160       0           0        1              0  \n",
       "30161       1           0        0              1  \n",
       "\n",
       "[30148 rows x 14 columns]"
      ]
     },
     "execution_count": 35,
     "metadata": {},
     "output_type": "execute_result"
    }
   ],
   "source": [
    "df_train_workclass"
   ]
  },
  {
   "cell_type": "markdown",
   "metadata": {
    "colab_type": "text",
    "id": "QX3Y-eG9qEg7"
   },
   "source": [
    "## MaritalStatus"
   ]
  },
  {
   "cell_type": "code",
   "execution_count": 36,
   "metadata": {
    "colab": {
     "base_uri": "https://localhost:8080/",
     "height": 72
    },
    "colab_type": "code",
    "executionInfo": {
     "elapsed": 11761,
     "status": "ok",
     "timestamp": 1578781176383,
     "user": {
      "displayName": "Àlex Valls",
      "photoUrl": "",
      "userId": "01219145643472682283"
     },
     "user_tz": -60
    },
    "id": "nMsC4KY0qEg9",
    "outputId": "09af5e41-f187-4550-fcfe-e8ab1900d382"
   },
   "outputs": [
    {
     "data": {
      "text/plain": [
       "array([' Never-married', ' Married-civ-spouse', ' Divorced',\n",
       "       ' Married-spouse-absent', ' Separated', ' Married-AF-spouse',\n",
       "       ' Widowed'], dtype=object)"
      ]
     },
     "execution_count": 36,
     "metadata": {},
     "output_type": "execute_result"
    }
   ],
   "source": [
    "maritalStatus = df_train['maritalStatus']\n",
    "maritalStatus.unique()"
   ]
  },
  {
   "cell_type": "code",
   "execution_count": 37,
   "metadata": {},
   "outputs": [
    {
     "data": {
      "text/plain": [
       " Married-civ-spouse       14065\n",
       " Never-married             9726\n",
       " Divorced                  4214\n",
       " Separated                  939\n",
       " Widowed                    827\n",
       " Married-spouse-absent      370\n",
       " Married-AF-spouse           21\n",
       "Name: maritalStatus, dtype: int64"
      ]
     },
     "execution_count": 37,
     "metadata": {},
     "output_type": "execute_result"
    }
   ],
   "source": [
    "df_train['maritalStatus'].value_counts()"
   ]
  },
  {
   "cell_type": "code",
   "execution_count": 38,
   "metadata": {},
   "outputs": [
    {
     "data": {
      "text/html": [
       "<div>\n",
       "<style scoped>\n",
       "    .dataframe tbody tr th:only-of-type {\n",
       "        vertical-align: middle;\n",
       "    }\n",
       "\n",
       "    .dataframe tbody tr th {\n",
       "        vertical-align: top;\n",
       "    }\n",
       "\n",
       "    .dataframe thead th {\n",
       "        text-align: right;\n",
       "    }\n",
       "</style>\n",
       "<table border=\"1\" class=\"dataframe\">\n",
       "  <thead>\n",
       "    <tr style=\"text-align: right;\">\n",
       "      <th></th>\n",
       "      <th>age</th>\n",
       "      <th>educationNum</th>\n",
       "      <th>maritalStatus</th>\n",
       "      <th>occupation</th>\n",
       "      <th>relationship</th>\n",
       "      <th>race</th>\n",
       "      <th>sex</th>\n",
       "      <th>capitalGain</th>\n",
       "      <th>capitalLoss</th>\n",
       "      <th>hoursWeek</th>\n",
       "      <th>target</th>\n",
       "      <th>Government</th>\n",
       "      <th>Private</th>\n",
       "      <th>Self-employed</th>\n",
       "    </tr>\n",
       "  </thead>\n",
       "  <tbody>\n",
       "    <tr>\n",
       "      <td>0</td>\n",
       "      <td>6.244998</td>\n",
       "      <td>13</td>\n",
       "      <td>Single</td>\n",
       "      <td>Adm-clerical</td>\n",
       "      <td>Not-in-family</td>\n",
       "      <td>White</td>\n",
       "      <td>1</td>\n",
       "      <td>2174</td>\n",
       "      <td>0</td>\n",
       "      <td>6.324555</td>\n",
       "      <td>0</td>\n",
       "      <td>1</td>\n",
       "      <td>0</td>\n",
       "      <td>0</td>\n",
       "    </tr>\n",
       "    <tr>\n",
       "      <td>1</td>\n",
       "      <td>7.071068</td>\n",
       "      <td>13</td>\n",
       "      <td>Married</td>\n",
       "      <td>Exec-managerial</td>\n",
       "      <td>Husband</td>\n",
       "      <td>White</td>\n",
       "      <td>1</td>\n",
       "      <td>0</td>\n",
       "      <td>0</td>\n",
       "      <td>5.749082</td>\n",
       "      <td>0</td>\n",
       "      <td>0</td>\n",
       "      <td>0</td>\n",
       "      <td>1</td>\n",
       "    </tr>\n",
       "    <tr>\n",
       "      <td>2</td>\n",
       "      <td>6.164414</td>\n",
       "      <td>9</td>\n",
       "      <td>Divorced</td>\n",
       "      <td>Handlers-cleaners</td>\n",
       "      <td>Not-in-family</td>\n",
       "      <td>White</td>\n",
       "      <td>1</td>\n",
       "      <td>0</td>\n",
       "      <td>0</td>\n",
       "      <td>6.324555</td>\n",
       "      <td>0</td>\n",
       "      <td>0</td>\n",
       "      <td>1</td>\n",
       "      <td>0</td>\n",
       "    </tr>\n",
       "    <tr>\n",
       "      <td>3</td>\n",
       "      <td>7.280110</td>\n",
       "      <td>7</td>\n",
       "      <td>Married</td>\n",
       "      <td>Handlers-cleaners</td>\n",
       "      <td>Husband</td>\n",
       "      <td>Black</td>\n",
       "      <td>1</td>\n",
       "      <td>0</td>\n",
       "      <td>0</td>\n",
       "      <td>6.324555</td>\n",
       "      <td>0</td>\n",
       "      <td>0</td>\n",
       "      <td>1</td>\n",
       "      <td>0</td>\n",
       "    </tr>\n",
       "    <tr>\n",
       "      <td>4</td>\n",
       "      <td>5.291503</td>\n",
       "      <td>13</td>\n",
       "      <td>Married</td>\n",
       "      <td>Prof-specialty</td>\n",
       "      <td>Wife</td>\n",
       "      <td>Black</td>\n",
       "      <td>0</td>\n",
       "      <td>0</td>\n",
       "      <td>0</td>\n",
       "      <td>6.324555</td>\n",
       "      <td>0</td>\n",
       "      <td>0</td>\n",
       "      <td>1</td>\n",
       "      <td>0</td>\n",
       "    </tr>\n",
       "  </tbody>\n",
       "</table>\n",
       "</div>"
      ],
      "text/plain": [
       "        age  educationNum maritalStatus          occupation    relationship  \\\n",
       "0  6.244998            13        Single        Adm-clerical   Not-in-family   \n",
       "1  7.071068            13       Married     Exec-managerial         Husband   \n",
       "2  6.164414             9      Divorced   Handlers-cleaners   Not-in-family   \n",
       "3  7.280110             7       Married   Handlers-cleaners         Husband   \n",
       "4  5.291503            13       Married      Prof-specialty            Wife   \n",
       "\n",
       "     race  sex  capitalGain  capitalLoss  hoursWeek  target  Government  \\\n",
       "0   White    1         2174            0   6.324555       0           1   \n",
       "1   White    1            0            0   5.749082       0           0   \n",
       "2   White    1            0            0   6.324555       0           0   \n",
       "3   Black    1            0            0   6.324555       0           0   \n",
       "4   Black    0            0            0   6.324555       0           0   \n",
       "\n",
       "   Private  Self-employed  \n",
       "0        0              0  \n",
       "1        0              1  \n",
       "2        1              0  \n",
       "3        1              0  \n",
       "4        1              0  "
      ]
     },
     "execution_count": 38,
     "metadata": {},
     "output_type": "execute_result"
    }
   ],
   "source": [
    "maritalStatus_dictionary = {\n",
    "    \" Married-civ-spouse\": \"Married\",\n",
    "    \" Married-spouse-absent\": \"Married\",\n",
    "    \" Married-AF-spouse\": \"Married\",\n",
    "    \" Never-married\": \"Single\",\n",
    "    \" Divorced\": \"Divorced\",\n",
    "    \" Separated\" : \"Separated\",\n",
    "    \" Widowed\" :  \"Widowed\"\n",
    "}\n",
    "df_train_workclass['maritalStatus'] = df_train_workclass.maritalStatus.map(maritalStatus_dictionary)\n",
    "df_train_workclass.head()"
   ]
  },
  {
   "cell_type": "code",
   "execution_count": 39,
   "metadata": {
    "colab": {
     "base_uri": "https://localhost:8080/",
     "height": 403
    },
    "colab_type": "code",
    "executionInfo": {
     "elapsed": 11737,
     "status": "ok",
     "timestamp": 1578781176383,
     "user": {
      "displayName": "Àlex Valls",
      "photoUrl": "",
      "userId": "01219145643472682283"
     },
     "user_tz": -60
    },
    "id": "dJuk7iFBqEhG",
    "outputId": "6932e985-d80f-47f2-86d2-946775e44d35"
   },
   "outputs": [
    {
     "data": {
      "text/plain": [
       "age              0\n",
       "educationNum     0\n",
       "occupation       0\n",
       "relationship     0\n",
       "race             0\n",
       "sex              0\n",
       "capitalGain      0\n",
       "capitalLoss      0\n",
       "hoursWeek        0\n",
       "target           0\n",
       "Government       0\n",
       "Private          0\n",
       "Self-employed    0\n",
       "Divorced         0\n",
       "Married          0\n",
       "Separated        0\n",
       "Single           0\n",
       "Widowed          0\n",
       "dtype: int64"
      ]
     },
     "execution_count": 39,
     "metadata": {},
     "output_type": "execute_result"
    }
   ],
   "source": [
    "df_maritalStatus = pd.get_dummies(df_train_workclass.maritalStatus)\n",
    "df_train_maritalStatus = pd.concat([df_train_workclass, df_maritalStatus],axis=1)\n",
    "\n",
    "#Erase title from df\n",
    "df_train_maritalStatus = df_train_maritalStatus.drop(['maritalStatus'], axis=1)\n",
    "df_train_maritalStatus\n",
    "df_train_maritalStatus.isnull().sum()"
   ]
  },
  {
   "cell_type": "markdown",
   "metadata": {
    "colab_type": "text",
    "id": "yzFqDjuwqEhL"
   },
   "source": [
    "## Occupation       "
   ]
  },
  {
   "cell_type": "code",
   "execution_count": 40,
   "metadata": {
    "colab": {
     "base_uri": "https://localhost:8080/",
     "height": 293
    },
    "colab_type": "code",
    "executionInfo": {
     "elapsed": 11716,
     "status": "ok",
     "timestamp": 1578781176385,
     "user": {
      "displayName": "Àlex Valls",
      "photoUrl": "",
      "userId": "01219145643472682283"
     },
     "user_tz": -60
    },
    "id": "m7VQ2rdyqEhM",
    "outputId": "ba6f7b1f-1f9a-4700-e88d-6bcd50969b31"
   },
   "outputs": [
    {
     "data": {
      "text/plain": [
       " Prof-specialty       4038\n",
       " Craft-repair         4029\n",
       " Exec-managerial      3992\n",
       " Adm-clerical         3718\n",
       " Sales                3584\n",
       " Other-service        3211\n",
       " Machine-op-inspct    1965\n",
       " Transport-moving     1571\n",
       " Handlers-cleaners    1349\n",
       " Farming-fishing       983\n",
       " Tech-support          912\n",
       " Protective-serv       644\n",
       " Priv-house-serv       143\n",
       " Armed-Forces            9\n",
       "Name: occupation, dtype: int64"
      ]
     },
     "execution_count": 40,
     "metadata": {},
     "output_type": "execute_result"
    }
   ],
   "source": [
    "df_train_maritalStatus['occupation'].value_counts()"
   ]
  },
  {
   "cell_type": "code",
   "execution_count": 41,
   "metadata": {
    "colab": {
     "base_uri": "https://localhost:8080/",
     "height": 479
    },
    "colab_type": "code",
    "executionInfo": {
     "elapsed": 11693,
     "status": "ok",
     "timestamp": 1578781176386,
     "user": {
      "displayName": "Àlex Valls",
      "photoUrl": "",
      "userId": "01219145643472682283"
     },
     "user_tz": -60
    },
    "id": "CPNlJqaRqEhS",
    "outputId": "dd27cd0f-077a-4e95-c65d-282a42721cf9"
   },
   "outputs": [
    {
     "data": {
      "text/html": [
       "<div>\n",
       "<style scoped>\n",
       "    .dataframe tbody tr th:only-of-type {\n",
       "        vertical-align: middle;\n",
       "    }\n",
       "\n",
       "    .dataframe tbody tr th {\n",
       "        vertical-align: top;\n",
       "    }\n",
       "\n",
       "    .dataframe thead th {\n",
       "        text-align: right;\n",
       "    }\n",
       "</style>\n",
       "<table border=\"1\" class=\"dataframe\">\n",
       "  <thead>\n",
       "    <tr style=\"text-align: right;\">\n",
       "      <th></th>\n",
       "      <th>age</th>\n",
       "      <th>educationNum</th>\n",
       "      <th>relationship</th>\n",
       "      <th>race</th>\n",
       "      <th>sex</th>\n",
       "      <th>capitalGain</th>\n",
       "      <th>capitalLoss</th>\n",
       "      <th>hoursWeek</th>\n",
       "      <th>target</th>\n",
       "      <th>Government</th>\n",
       "      <th>...</th>\n",
       "      <th>Farming-fishing</th>\n",
       "      <th>Handlers-cleaners</th>\n",
       "      <th>Machine-op-inspct</th>\n",
       "      <th>Other-service</th>\n",
       "      <th>Priv-house-serv</th>\n",
       "      <th>Prof-specialty</th>\n",
       "      <th>Protective-serv</th>\n",
       "      <th>Sales</th>\n",
       "      <th>Tech-support</th>\n",
       "      <th>Transport-moving</th>\n",
       "    </tr>\n",
       "  </thead>\n",
       "  <tbody>\n",
       "    <tr>\n",
       "      <td>0</td>\n",
       "      <td>6.244998</td>\n",
       "      <td>13</td>\n",
       "      <td>Not-in-family</td>\n",
       "      <td>White</td>\n",
       "      <td>1</td>\n",
       "      <td>2174</td>\n",
       "      <td>0</td>\n",
       "      <td>6.324555</td>\n",
       "      <td>0</td>\n",
       "      <td>1</td>\n",
       "      <td>...</td>\n",
       "      <td>0</td>\n",
       "      <td>0</td>\n",
       "      <td>0</td>\n",
       "      <td>0</td>\n",
       "      <td>0</td>\n",
       "      <td>0</td>\n",
       "      <td>0</td>\n",
       "      <td>0</td>\n",
       "      <td>0</td>\n",
       "      <td>0</td>\n",
       "    </tr>\n",
       "    <tr>\n",
       "      <td>1</td>\n",
       "      <td>7.071068</td>\n",
       "      <td>13</td>\n",
       "      <td>Husband</td>\n",
       "      <td>White</td>\n",
       "      <td>1</td>\n",
       "      <td>0</td>\n",
       "      <td>0</td>\n",
       "      <td>5.749082</td>\n",
       "      <td>0</td>\n",
       "      <td>0</td>\n",
       "      <td>...</td>\n",
       "      <td>0</td>\n",
       "      <td>0</td>\n",
       "      <td>0</td>\n",
       "      <td>0</td>\n",
       "      <td>0</td>\n",
       "      <td>0</td>\n",
       "      <td>0</td>\n",
       "      <td>0</td>\n",
       "      <td>0</td>\n",
       "      <td>0</td>\n",
       "    </tr>\n",
       "    <tr>\n",
       "      <td>2</td>\n",
       "      <td>6.164414</td>\n",
       "      <td>9</td>\n",
       "      <td>Not-in-family</td>\n",
       "      <td>White</td>\n",
       "      <td>1</td>\n",
       "      <td>0</td>\n",
       "      <td>0</td>\n",
       "      <td>6.324555</td>\n",
       "      <td>0</td>\n",
       "      <td>0</td>\n",
       "      <td>...</td>\n",
       "      <td>0</td>\n",
       "      <td>1</td>\n",
       "      <td>0</td>\n",
       "      <td>0</td>\n",
       "      <td>0</td>\n",
       "      <td>0</td>\n",
       "      <td>0</td>\n",
       "      <td>0</td>\n",
       "      <td>0</td>\n",
       "      <td>0</td>\n",
       "    </tr>\n",
       "    <tr>\n",
       "      <td>3</td>\n",
       "      <td>7.280110</td>\n",
       "      <td>7</td>\n",
       "      <td>Husband</td>\n",
       "      <td>Black</td>\n",
       "      <td>1</td>\n",
       "      <td>0</td>\n",
       "      <td>0</td>\n",
       "      <td>6.324555</td>\n",
       "      <td>0</td>\n",
       "      <td>0</td>\n",
       "      <td>...</td>\n",
       "      <td>0</td>\n",
       "      <td>1</td>\n",
       "      <td>0</td>\n",
       "      <td>0</td>\n",
       "      <td>0</td>\n",
       "      <td>0</td>\n",
       "      <td>0</td>\n",
       "      <td>0</td>\n",
       "      <td>0</td>\n",
       "      <td>0</td>\n",
       "    </tr>\n",
       "    <tr>\n",
       "      <td>4</td>\n",
       "      <td>5.291503</td>\n",
       "      <td>13</td>\n",
       "      <td>Wife</td>\n",
       "      <td>Black</td>\n",
       "      <td>0</td>\n",
       "      <td>0</td>\n",
       "      <td>0</td>\n",
       "      <td>6.324555</td>\n",
       "      <td>0</td>\n",
       "      <td>0</td>\n",
       "      <td>...</td>\n",
       "      <td>0</td>\n",
       "      <td>0</td>\n",
       "      <td>0</td>\n",
       "      <td>0</td>\n",
       "      <td>0</td>\n",
       "      <td>1</td>\n",
       "      <td>0</td>\n",
       "      <td>0</td>\n",
       "      <td>0</td>\n",
       "      <td>0</td>\n",
       "    </tr>\n",
       "    <tr>\n",
       "      <td>...</td>\n",
       "      <td>...</td>\n",
       "      <td>...</td>\n",
       "      <td>...</td>\n",
       "      <td>...</td>\n",
       "      <td>...</td>\n",
       "      <td>...</td>\n",
       "      <td>...</td>\n",
       "      <td>...</td>\n",
       "      <td>...</td>\n",
       "      <td>...</td>\n",
       "      <td>...</td>\n",
       "      <td>...</td>\n",
       "      <td>...</td>\n",
       "      <td>...</td>\n",
       "      <td>...</td>\n",
       "      <td>...</td>\n",
       "      <td>...</td>\n",
       "      <td>...</td>\n",
       "      <td>...</td>\n",
       "      <td>...</td>\n",
       "      <td>...</td>\n",
       "    </tr>\n",
       "    <tr>\n",
       "      <td>30157</td>\n",
       "      <td>5.196152</td>\n",
       "      <td>12</td>\n",
       "      <td>Wife</td>\n",
       "      <td>White</td>\n",
       "      <td>0</td>\n",
       "      <td>0</td>\n",
       "      <td>0</td>\n",
       "      <td>6.164414</td>\n",
       "      <td>0</td>\n",
       "      <td>0</td>\n",
       "      <td>...</td>\n",
       "      <td>0</td>\n",
       "      <td>0</td>\n",
       "      <td>0</td>\n",
       "      <td>0</td>\n",
       "      <td>0</td>\n",
       "      <td>0</td>\n",
       "      <td>0</td>\n",
       "      <td>0</td>\n",
       "      <td>1</td>\n",
       "      <td>0</td>\n",
       "    </tr>\n",
       "    <tr>\n",
       "      <td>30158</td>\n",
       "      <td>6.324555</td>\n",
       "      <td>9</td>\n",
       "      <td>Husband</td>\n",
       "      <td>White</td>\n",
       "      <td>1</td>\n",
       "      <td>0</td>\n",
       "      <td>0</td>\n",
       "      <td>6.324555</td>\n",
       "      <td>1</td>\n",
       "      <td>0</td>\n",
       "      <td>...</td>\n",
       "      <td>0</td>\n",
       "      <td>0</td>\n",
       "      <td>1</td>\n",
       "      <td>0</td>\n",
       "      <td>0</td>\n",
       "      <td>0</td>\n",
       "      <td>0</td>\n",
       "      <td>0</td>\n",
       "      <td>0</td>\n",
       "      <td>0</td>\n",
       "    </tr>\n",
       "    <tr>\n",
       "      <td>30159</td>\n",
       "      <td>7.615773</td>\n",
       "      <td>9</td>\n",
       "      <td>Unmarried</td>\n",
       "      <td>White</td>\n",
       "      <td>0</td>\n",
       "      <td>0</td>\n",
       "      <td>0</td>\n",
       "      <td>6.324555</td>\n",
       "      <td>0</td>\n",
       "      <td>0</td>\n",
       "      <td>...</td>\n",
       "      <td>0</td>\n",
       "      <td>0</td>\n",
       "      <td>0</td>\n",
       "      <td>0</td>\n",
       "      <td>0</td>\n",
       "      <td>0</td>\n",
       "      <td>0</td>\n",
       "      <td>0</td>\n",
       "      <td>0</td>\n",
       "      <td>0</td>\n",
       "    </tr>\n",
       "    <tr>\n",
       "      <td>30160</td>\n",
       "      <td>4.690416</td>\n",
       "      <td>9</td>\n",
       "      <td>Own-child</td>\n",
       "      <td>White</td>\n",
       "      <td>1</td>\n",
       "      <td>0</td>\n",
       "      <td>0</td>\n",
       "      <td>5.749082</td>\n",
       "      <td>0</td>\n",
       "      <td>0</td>\n",
       "      <td>...</td>\n",
       "      <td>0</td>\n",
       "      <td>0</td>\n",
       "      <td>0</td>\n",
       "      <td>0</td>\n",
       "      <td>0</td>\n",
       "      <td>0</td>\n",
       "      <td>0</td>\n",
       "      <td>0</td>\n",
       "      <td>0</td>\n",
       "      <td>0</td>\n",
       "    </tr>\n",
       "    <tr>\n",
       "      <td>30161</td>\n",
       "      <td>7.211103</td>\n",
       "      <td>9</td>\n",
       "      <td>Wife</td>\n",
       "      <td>White</td>\n",
       "      <td>0</td>\n",
       "      <td>15024</td>\n",
       "      <td>0</td>\n",
       "      <td>6.324555</td>\n",
       "      <td>1</td>\n",
       "      <td>0</td>\n",
       "      <td>...</td>\n",
       "      <td>0</td>\n",
       "      <td>0</td>\n",
       "      <td>0</td>\n",
       "      <td>0</td>\n",
       "      <td>0</td>\n",
       "      <td>0</td>\n",
       "      <td>0</td>\n",
       "      <td>0</td>\n",
       "      <td>0</td>\n",
       "      <td>0</td>\n",
       "    </tr>\n",
       "  </tbody>\n",
       "</table>\n",
       "<p>30148 rows × 31 columns</p>\n",
       "</div>"
      ],
      "text/plain": [
       "            age  educationNum    relationship    race  sex  capitalGain  \\\n",
       "0      6.244998            13   Not-in-family   White    1         2174   \n",
       "1      7.071068            13         Husband   White    1            0   \n",
       "2      6.164414             9   Not-in-family   White    1            0   \n",
       "3      7.280110             7         Husband   Black    1            0   \n",
       "4      5.291503            13            Wife   Black    0            0   \n",
       "...         ...           ...             ...     ...  ...          ...   \n",
       "30157  5.196152            12            Wife   White    0            0   \n",
       "30158  6.324555             9         Husband   White    1            0   \n",
       "30159  7.615773             9       Unmarried   White    0            0   \n",
       "30160  4.690416             9       Own-child   White    1            0   \n",
       "30161  7.211103             9            Wife   White    0        15024   \n",
       "\n",
       "       capitalLoss  hoursWeek  target  Government  ...   Farming-fishing  \\\n",
       "0                0   6.324555       0           1  ...                 0   \n",
       "1                0   5.749082       0           0  ...                 0   \n",
       "2                0   6.324555       0           0  ...                 0   \n",
       "3                0   6.324555       0           0  ...                 0   \n",
       "4                0   6.324555       0           0  ...                 0   \n",
       "...            ...        ...     ...         ...  ...               ...   \n",
       "30157            0   6.164414       0           0  ...                 0   \n",
       "30158            0   6.324555       1           0  ...                 0   \n",
       "30159            0   6.324555       0           0  ...                 0   \n",
       "30160            0   5.749082       0           0  ...                 0   \n",
       "30161            0   6.324555       1           0  ...                 0   \n",
       "\n",
       "        Handlers-cleaners   Machine-op-inspct   Other-service  \\\n",
       "0                       0                   0               0   \n",
       "1                       0                   0               0   \n",
       "2                       1                   0               0   \n",
       "3                       1                   0               0   \n",
       "4                       0                   0               0   \n",
       "...                   ...                 ...             ...   \n",
       "30157                   0                   0               0   \n",
       "30158                   0                   1               0   \n",
       "30159                   0                   0               0   \n",
       "30160                   0                   0               0   \n",
       "30161                   0                   0               0   \n",
       "\n",
       "        Priv-house-serv   Prof-specialty   Protective-serv   Sales  \\\n",
       "0                     0                0                 0       0   \n",
       "1                     0                0                 0       0   \n",
       "2                     0                0                 0       0   \n",
       "3                     0                0                 0       0   \n",
       "4                     0                1                 0       0   \n",
       "...                 ...              ...               ...     ...   \n",
       "30157                 0                0                 0       0   \n",
       "30158                 0                0                 0       0   \n",
       "30159                 0                0                 0       0   \n",
       "30160                 0                0                 0       0   \n",
       "30161                 0                0                 0       0   \n",
       "\n",
       "        Tech-support   Transport-moving  \n",
       "0                  0                  0  \n",
       "1                  0                  0  \n",
       "2                  0                  0  \n",
       "3                  0                  0  \n",
       "4                  0                  0  \n",
       "...              ...                ...  \n",
       "30157              1                  0  \n",
       "30158              0                  0  \n",
       "30159              0                  0  \n",
       "30160              0                  0  \n",
       "30161              0                  0  \n",
       "\n",
       "[30148 rows x 31 columns]"
      ]
     },
     "execution_count": 41,
     "metadata": {},
     "output_type": "execute_result"
    }
   ],
   "source": [
    "df_occupation = pd.get_dummies(df_train_maritalStatus.occupation)\n",
    "df_train_occupation = pd.concat([df_train_maritalStatus, df_occupation],axis=1)\n",
    "\n",
    "#Erase title from df\n",
    "df_train_occupation = df_train_occupation.drop(['occupation'], axis=1)\n",
    "df_train_occupation"
   ]
  },
  {
   "cell_type": "markdown",
   "metadata": {
    "colab_type": "text",
    "id": "1CG_MfjRqEhd"
   },
   "source": [
    "## Race             "
   ]
  },
  {
   "cell_type": "code",
   "execution_count": 42,
   "metadata": {
    "colab": {
     "base_uri": "https://localhost:8080/",
     "height": 127
    },
    "colab_type": "code",
    "executionInfo": {
     "elapsed": 11671,
     "status": "ok",
     "timestamp": 1578781176387,
     "user": {
      "displayName": "Àlex Valls",
      "photoUrl": "",
      "userId": "01219145643472682283"
     },
     "user_tz": -60
    },
    "id": "o-BZ4DcGqEhe",
    "outputId": "a8580211-2820-404e-d632-e84bf6bca967"
   },
   "outputs": [
    {
     "data": {
      "text/plain": [
       " White                 25921\n",
       " Black                  2816\n",
       " Asian-Pac-Islander      894\n",
       " Amer-Indian-Eskimo      286\n",
       " Other                   231\n",
       "Name: race, dtype: int64"
      ]
     },
     "execution_count": 42,
     "metadata": {},
     "output_type": "execute_result"
    }
   ],
   "source": [
    "df_train_occupation['race'].value_counts()"
   ]
  },
  {
   "cell_type": "code",
   "execution_count": 53,
   "metadata": {
    "colab": {
     "base_uri": "https://localhost:8080/",
     "height": 479
    },
    "colab_type": "code",
    "executionInfo": {
     "elapsed": 11646,
     "status": "ok",
     "timestamp": 1578781176387,
     "user": {
      "displayName": "Àlex Valls",
      "photoUrl": "",
      "userId": "01219145643472682283"
     },
     "user_tz": -60
    },
    "id": "ExrodURzqEhj",
    "outputId": "6921a465-5319-423a-aa44-fe5b2aa73cc1"
   },
   "outputs": [
    {
     "data": {
      "text/html": [
       "<div>\n",
       "<style scoped>\n",
       "    .dataframe tbody tr th:only-of-type {\n",
       "        vertical-align: middle;\n",
       "    }\n",
       "\n",
       "    .dataframe tbody tr th {\n",
       "        vertical-align: top;\n",
       "    }\n",
       "\n",
       "    .dataframe thead th {\n",
       "        text-align: right;\n",
       "    }\n",
       "</style>\n",
       "<table border=\"1\" class=\"dataframe\">\n",
       "  <thead>\n",
       "    <tr style=\"text-align: right;\">\n",
       "      <th></th>\n",
       "      <th>age</th>\n",
       "      <th>educationNum</th>\n",
       "      <th>relationship</th>\n",
       "      <th>sex</th>\n",
       "      <th>capitalGain</th>\n",
       "      <th>capitalLoss</th>\n",
       "      <th>hoursWeek</th>\n",
       "      <th>target</th>\n",
       "      <th>Government</th>\n",
       "      <th>Private</th>\n",
       "      <th>...</th>\n",
       "      <th>Prof-specialty</th>\n",
       "      <th>Protective-serv</th>\n",
       "      <th>Sales</th>\n",
       "      <th>Tech-support</th>\n",
       "      <th>Transport-moving</th>\n",
       "      <th>Amer-Indian-Eskimo</th>\n",
       "      <th>Asian-Pac-Islander</th>\n",
       "      <th>Black</th>\n",
       "      <th>Other</th>\n",
       "      <th>White</th>\n",
       "    </tr>\n",
       "  </thead>\n",
       "  <tbody>\n",
       "    <tr>\n",
       "      <td>0</td>\n",
       "      <td>6.244998</td>\n",
       "      <td>13</td>\n",
       "      <td>Not-in-family</td>\n",
       "      <td>1</td>\n",
       "      <td>2174</td>\n",
       "      <td>0</td>\n",
       "      <td>6.324555</td>\n",
       "      <td>0</td>\n",
       "      <td>1</td>\n",
       "      <td>0</td>\n",
       "      <td>...</td>\n",
       "      <td>0</td>\n",
       "      <td>0</td>\n",
       "      <td>0</td>\n",
       "      <td>0</td>\n",
       "      <td>0</td>\n",
       "      <td>0</td>\n",
       "      <td>0</td>\n",
       "      <td>0</td>\n",
       "      <td>0</td>\n",
       "      <td>1</td>\n",
       "    </tr>\n",
       "    <tr>\n",
       "      <td>1</td>\n",
       "      <td>7.071068</td>\n",
       "      <td>13</td>\n",
       "      <td>Husband</td>\n",
       "      <td>1</td>\n",
       "      <td>0</td>\n",
       "      <td>0</td>\n",
       "      <td>5.749082</td>\n",
       "      <td>0</td>\n",
       "      <td>0</td>\n",
       "      <td>0</td>\n",
       "      <td>...</td>\n",
       "      <td>0</td>\n",
       "      <td>0</td>\n",
       "      <td>0</td>\n",
       "      <td>0</td>\n",
       "      <td>0</td>\n",
       "      <td>0</td>\n",
       "      <td>0</td>\n",
       "      <td>0</td>\n",
       "      <td>0</td>\n",
       "      <td>1</td>\n",
       "    </tr>\n",
       "    <tr>\n",
       "      <td>2</td>\n",
       "      <td>6.164414</td>\n",
       "      <td>9</td>\n",
       "      <td>Not-in-family</td>\n",
       "      <td>1</td>\n",
       "      <td>0</td>\n",
       "      <td>0</td>\n",
       "      <td>6.324555</td>\n",
       "      <td>0</td>\n",
       "      <td>0</td>\n",
       "      <td>1</td>\n",
       "      <td>...</td>\n",
       "      <td>0</td>\n",
       "      <td>0</td>\n",
       "      <td>0</td>\n",
       "      <td>0</td>\n",
       "      <td>0</td>\n",
       "      <td>0</td>\n",
       "      <td>0</td>\n",
       "      <td>0</td>\n",
       "      <td>0</td>\n",
       "      <td>1</td>\n",
       "    </tr>\n",
       "    <tr>\n",
       "      <td>3</td>\n",
       "      <td>7.280110</td>\n",
       "      <td>7</td>\n",
       "      <td>Husband</td>\n",
       "      <td>1</td>\n",
       "      <td>0</td>\n",
       "      <td>0</td>\n",
       "      <td>6.324555</td>\n",
       "      <td>0</td>\n",
       "      <td>0</td>\n",
       "      <td>1</td>\n",
       "      <td>...</td>\n",
       "      <td>0</td>\n",
       "      <td>0</td>\n",
       "      <td>0</td>\n",
       "      <td>0</td>\n",
       "      <td>0</td>\n",
       "      <td>0</td>\n",
       "      <td>0</td>\n",
       "      <td>1</td>\n",
       "      <td>0</td>\n",
       "      <td>0</td>\n",
       "    </tr>\n",
       "    <tr>\n",
       "      <td>4</td>\n",
       "      <td>5.291503</td>\n",
       "      <td>13</td>\n",
       "      <td>Wife</td>\n",
       "      <td>0</td>\n",
       "      <td>0</td>\n",
       "      <td>0</td>\n",
       "      <td>6.324555</td>\n",
       "      <td>0</td>\n",
       "      <td>0</td>\n",
       "      <td>1</td>\n",
       "      <td>...</td>\n",
       "      <td>1</td>\n",
       "      <td>0</td>\n",
       "      <td>0</td>\n",
       "      <td>0</td>\n",
       "      <td>0</td>\n",
       "      <td>0</td>\n",
       "      <td>0</td>\n",
       "      <td>1</td>\n",
       "      <td>0</td>\n",
       "      <td>0</td>\n",
       "    </tr>\n",
       "    <tr>\n",
       "      <td>...</td>\n",
       "      <td>...</td>\n",
       "      <td>...</td>\n",
       "      <td>...</td>\n",
       "      <td>...</td>\n",
       "      <td>...</td>\n",
       "      <td>...</td>\n",
       "      <td>...</td>\n",
       "      <td>...</td>\n",
       "      <td>...</td>\n",
       "      <td>...</td>\n",
       "      <td>...</td>\n",
       "      <td>...</td>\n",
       "      <td>...</td>\n",
       "      <td>...</td>\n",
       "      <td>...</td>\n",
       "      <td>...</td>\n",
       "      <td>...</td>\n",
       "      <td>...</td>\n",
       "      <td>...</td>\n",
       "      <td>...</td>\n",
       "      <td>...</td>\n",
       "    </tr>\n",
       "    <tr>\n",
       "      <td>30157</td>\n",
       "      <td>5.196152</td>\n",
       "      <td>12</td>\n",
       "      <td>Wife</td>\n",
       "      <td>0</td>\n",
       "      <td>0</td>\n",
       "      <td>0</td>\n",
       "      <td>6.164414</td>\n",
       "      <td>0</td>\n",
       "      <td>0</td>\n",
       "      <td>1</td>\n",
       "      <td>...</td>\n",
       "      <td>0</td>\n",
       "      <td>0</td>\n",
       "      <td>0</td>\n",
       "      <td>1</td>\n",
       "      <td>0</td>\n",
       "      <td>0</td>\n",
       "      <td>0</td>\n",
       "      <td>0</td>\n",
       "      <td>0</td>\n",
       "      <td>1</td>\n",
       "    </tr>\n",
       "    <tr>\n",
       "      <td>30158</td>\n",
       "      <td>6.324555</td>\n",
       "      <td>9</td>\n",
       "      <td>Husband</td>\n",
       "      <td>1</td>\n",
       "      <td>0</td>\n",
       "      <td>0</td>\n",
       "      <td>6.324555</td>\n",
       "      <td>1</td>\n",
       "      <td>0</td>\n",
       "      <td>1</td>\n",
       "      <td>...</td>\n",
       "      <td>0</td>\n",
       "      <td>0</td>\n",
       "      <td>0</td>\n",
       "      <td>0</td>\n",
       "      <td>0</td>\n",
       "      <td>0</td>\n",
       "      <td>0</td>\n",
       "      <td>0</td>\n",
       "      <td>0</td>\n",
       "      <td>1</td>\n",
       "    </tr>\n",
       "    <tr>\n",
       "      <td>30159</td>\n",
       "      <td>7.615773</td>\n",
       "      <td>9</td>\n",
       "      <td>Unmarried</td>\n",
       "      <td>0</td>\n",
       "      <td>0</td>\n",
       "      <td>0</td>\n",
       "      <td>6.324555</td>\n",
       "      <td>0</td>\n",
       "      <td>0</td>\n",
       "      <td>1</td>\n",
       "      <td>...</td>\n",
       "      <td>0</td>\n",
       "      <td>0</td>\n",
       "      <td>0</td>\n",
       "      <td>0</td>\n",
       "      <td>0</td>\n",
       "      <td>0</td>\n",
       "      <td>0</td>\n",
       "      <td>0</td>\n",
       "      <td>0</td>\n",
       "      <td>1</td>\n",
       "    </tr>\n",
       "    <tr>\n",
       "      <td>30160</td>\n",
       "      <td>4.690416</td>\n",
       "      <td>9</td>\n",
       "      <td>Own-child</td>\n",
       "      <td>1</td>\n",
       "      <td>0</td>\n",
       "      <td>0</td>\n",
       "      <td>5.749082</td>\n",
       "      <td>0</td>\n",
       "      <td>0</td>\n",
       "      <td>1</td>\n",
       "      <td>...</td>\n",
       "      <td>0</td>\n",
       "      <td>0</td>\n",
       "      <td>0</td>\n",
       "      <td>0</td>\n",
       "      <td>0</td>\n",
       "      <td>0</td>\n",
       "      <td>0</td>\n",
       "      <td>0</td>\n",
       "      <td>0</td>\n",
       "      <td>1</td>\n",
       "    </tr>\n",
       "    <tr>\n",
       "      <td>30161</td>\n",
       "      <td>7.211103</td>\n",
       "      <td>9</td>\n",
       "      <td>Wife</td>\n",
       "      <td>0</td>\n",
       "      <td>15024</td>\n",
       "      <td>0</td>\n",
       "      <td>6.324555</td>\n",
       "      <td>1</td>\n",
       "      <td>0</td>\n",
       "      <td>0</td>\n",
       "      <td>...</td>\n",
       "      <td>0</td>\n",
       "      <td>0</td>\n",
       "      <td>0</td>\n",
       "      <td>0</td>\n",
       "      <td>0</td>\n",
       "      <td>0</td>\n",
       "      <td>0</td>\n",
       "      <td>0</td>\n",
       "      <td>0</td>\n",
       "      <td>1</td>\n",
       "    </tr>\n",
       "  </tbody>\n",
       "</table>\n",
       "<p>30148 rows × 35 columns</p>\n",
       "</div>"
      ],
      "text/plain": [
       "            age  educationNum    relationship  sex  capitalGain  capitalLoss  \\\n",
       "0      6.244998            13   Not-in-family    1         2174            0   \n",
       "1      7.071068            13         Husband    1            0            0   \n",
       "2      6.164414             9   Not-in-family    1            0            0   \n",
       "3      7.280110             7         Husband    1            0            0   \n",
       "4      5.291503            13            Wife    0            0            0   \n",
       "...         ...           ...             ...  ...          ...          ...   \n",
       "30157  5.196152            12            Wife    0            0            0   \n",
       "30158  6.324555             9         Husband    1            0            0   \n",
       "30159  7.615773             9       Unmarried    0            0            0   \n",
       "30160  4.690416             9       Own-child    1            0            0   \n",
       "30161  7.211103             9            Wife    0        15024            0   \n",
       "\n",
       "       hoursWeek  target  Government  Private  ...   Prof-specialty  \\\n",
       "0       6.324555       0           1        0  ...                0   \n",
       "1       5.749082       0           0        0  ...                0   \n",
       "2       6.324555       0           0        1  ...                0   \n",
       "3       6.324555       0           0        1  ...                0   \n",
       "4       6.324555       0           0        1  ...                1   \n",
       "...          ...     ...         ...      ...  ...              ...   \n",
       "30157   6.164414       0           0        1  ...                0   \n",
       "30158   6.324555       1           0        1  ...                0   \n",
       "30159   6.324555       0           0        1  ...                0   \n",
       "30160   5.749082       0           0        1  ...                0   \n",
       "30161   6.324555       1           0        0  ...                0   \n",
       "\n",
       "        Protective-serv   Sales   Tech-support   Transport-moving  \\\n",
       "0                     0       0              0                  0   \n",
       "1                     0       0              0                  0   \n",
       "2                     0       0              0                  0   \n",
       "3                     0       0              0                  0   \n",
       "4                     0       0              0                  0   \n",
       "...                 ...     ...            ...                ...   \n",
       "30157                 0       0              1                  0   \n",
       "30158                 0       0              0                  0   \n",
       "30159                 0       0              0                  0   \n",
       "30160                 0       0              0                  0   \n",
       "30161                 0       0              0                  0   \n",
       "\n",
       "        Amer-Indian-Eskimo   Asian-Pac-Islander   Black   Other   White  \n",
       "0                        0                    0       0       0       1  \n",
       "1                        0                    0       0       0       1  \n",
       "2                        0                    0       0       0       1  \n",
       "3                        0                    0       1       0       0  \n",
       "4                        0                    0       1       0       0  \n",
       "...                    ...                  ...     ...     ...     ...  \n",
       "30157                    0                    0       0       0       1  \n",
       "30158                    0                    0       0       0       1  \n",
       "30159                    0                    0       0       0       1  \n",
       "30160                    0                    0       0       0       1  \n",
       "30161                    0                    0       0       0       1  \n",
       "\n",
       "[30148 rows x 35 columns]"
      ]
     },
     "execution_count": 53,
     "metadata": {},
     "output_type": "execute_result"
    }
   ],
   "source": [
    "df_race = pd.get_dummies(df_train_occupation.race)\n",
    "df_train_race = pd.concat([df_train_occupation, df_race],axis=1)\n",
    "\n",
    "#Erase title from df\n",
    "df_train_race = df_train_race.drop(['race'], axis=1)\n",
    "df_train_race"
   ]
  },
  {
   "cell_type": "markdown",
   "metadata": {
    "colab_type": "text",
    "id": "3SoERlVIqEho"
   },
   "source": [
    "## Relationship"
   ]
  },
  {
   "cell_type": "code",
   "execution_count": 54,
   "metadata": {
    "colab": {
     "base_uri": "https://localhost:8080/",
     "height": 146
    },
    "colab_type": "code",
    "executionInfo": {
     "elapsed": 11618,
     "status": "ok",
     "timestamp": 1578781176388,
     "user": {
      "displayName": "Àlex Valls",
      "photoUrl": "",
      "userId": "01219145643472682283"
     },
     "user_tz": -60
    },
    "id": "cAQP89pgqEhq",
    "outputId": "f670f294-73e8-4aec-e4e7-34bbbdfd4168"
   },
   "outputs": [
    {
     "data": {
      "text/plain": [
       " Husband           12459\n",
       " Not-in-family      7726\n",
       " Own-child          4461\n",
       " Unmarried          3210\n",
       " Wife               1403\n",
       " Other-relative      889\n",
       "Name: relationship, dtype: int64"
      ]
     },
     "execution_count": 54,
     "metadata": {},
     "output_type": "execute_result"
    }
   ],
   "source": [
    "df_train_race['relationship'].value_counts()"
   ]
  },
  {
   "cell_type": "code",
   "execution_count": 55,
   "metadata": {
    "colab": {
     "base_uri": "https://localhost:8080/",
     "height": 479
    },
    "colab_type": "code",
    "executionInfo": {
     "elapsed": 11591,
     "status": "ok",
     "timestamp": 1578781176388,
     "user": {
      "displayName": "Àlex Valls",
      "photoUrl": "",
      "userId": "01219145643472682283"
     },
     "user_tz": -60
    },
    "id": "-eD1asHNqEhx",
    "outputId": "6776a833-93da-4a1e-ef49-3945889689fb"
   },
   "outputs": [
    {
     "data": {
      "text/html": [
       "<div>\n",
       "<style scoped>\n",
       "    .dataframe tbody tr th:only-of-type {\n",
       "        vertical-align: middle;\n",
       "    }\n",
       "\n",
       "    .dataframe tbody tr th {\n",
       "        vertical-align: top;\n",
       "    }\n",
       "\n",
       "    .dataframe thead th {\n",
       "        text-align: right;\n",
       "    }\n",
       "</style>\n",
       "<table border=\"1\" class=\"dataframe\">\n",
       "  <thead>\n",
       "    <tr style=\"text-align: right;\">\n",
       "      <th></th>\n",
       "      <th>age</th>\n",
       "      <th>educationNum</th>\n",
       "      <th>sex</th>\n",
       "      <th>capitalGain</th>\n",
       "      <th>capitalLoss</th>\n",
       "      <th>hoursWeek</th>\n",
       "      <th>target</th>\n",
       "      <th>Government</th>\n",
       "      <th>Private</th>\n",
       "      <th>Self-employed</th>\n",
       "      <th>...</th>\n",
       "      <th>Asian-Pac-Islander</th>\n",
       "      <th>Black</th>\n",
       "      <th>Other</th>\n",
       "      <th>White</th>\n",
       "      <th>Husband</th>\n",
       "      <th>Not-in-family</th>\n",
       "      <th>Other-relative</th>\n",
       "      <th>Own-child</th>\n",
       "      <th>Unmarried</th>\n",
       "      <th>Wife</th>\n",
       "    </tr>\n",
       "  </thead>\n",
       "  <tbody>\n",
       "    <tr>\n",
       "      <td>0</td>\n",
       "      <td>6.244998</td>\n",
       "      <td>13</td>\n",
       "      <td>1</td>\n",
       "      <td>2174</td>\n",
       "      <td>0</td>\n",
       "      <td>6.324555</td>\n",
       "      <td>0</td>\n",
       "      <td>1</td>\n",
       "      <td>0</td>\n",
       "      <td>0</td>\n",
       "      <td>...</td>\n",
       "      <td>0</td>\n",
       "      <td>0</td>\n",
       "      <td>0</td>\n",
       "      <td>1</td>\n",
       "      <td>0</td>\n",
       "      <td>1</td>\n",
       "      <td>0</td>\n",
       "      <td>0</td>\n",
       "      <td>0</td>\n",
       "      <td>0</td>\n",
       "    </tr>\n",
       "    <tr>\n",
       "      <td>1</td>\n",
       "      <td>7.071068</td>\n",
       "      <td>13</td>\n",
       "      <td>1</td>\n",
       "      <td>0</td>\n",
       "      <td>0</td>\n",
       "      <td>5.749082</td>\n",
       "      <td>0</td>\n",
       "      <td>0</td>\n",
       "      <td>0</td>\n",
       "      <td>1</td>\n",
       "      <td>...</td>\n",
       "      <td>0</td>\n",
       "      <td>0</td>\n",
       "      <td>0</td>\n",
       "      <td>1</td>\n",
       "      <td>1</td>\n",
       "      <td>0</td>\n",
       "      <td>0</td>\n",
       "      <td>0</td>\n",
       "      <td>0</td>\n",
       "      <td>0</td>\n",
       "    </tr>\n",
       "    <tr>\n",
       "      <td>2</td>\n",
       "      <td>6.164414</td>\n",
       "      <td>9</td>\n",
       "      <td>1</td>\n",
       "      <td>0</td>\n",
       "      <td>0</td>\n",
       "      <td>6.324555</td>\n",
       "      <td>0</td>\n",
       "      <td>0</td>\n",
       "      <td>1</td>\n",
       "      <td>0</td>\n",
       "      <td>...</td>\n",
       "      <td>0</td>\n",
       "      <td>0</td>\n",
       "      <td>0</td>\n",
       "      <td>1</td>\n",
       "      <td>0</td>\n",
       "      <td>1</td>\n",
       "      <td>0</td>\n",
       "      <td>0</td>\n",
       "      <td>0</td>\n",
       "      <td>0</td>\n",
       "    </tr>\n",
       "    <tr>\n",
       "      <td>3</td>\n",
       "      <td>7.280110</td>\n",
       "      <td>7</td>\n",
       "      <td>1</td>\n",
       "      <td>0</td>\n",
       "      <td>0</td>\n",
       "      <td>6.324555</td>\n",
       "      <td>0</td>\n",
       "      <td>0</td>\n",
       "      <td>1</td>\n",
       "      <td>0</td>\n",
       "      <td>...</td>\n",
       "      <td>0</td>\n",
       "      <td>1</td>\n",
       "      <td>0</td>\n",
       "      <td>0</td>\n",
       "      <td>1</td>\n",
       "      <td>0</td>\n",
       "      <td>0</td>\n",
       "      <td>0</td>\n",
       "      <td>0</td>\n",
       "      <td>0</td>\n",
       "    </tr>\n",
       "    <tr>\n",
       "      <td>4</td>\n",
       "      <td>5.291503</td>\n",
       "      <td>13</td>\n",
       "      <td>0</td>\n",
       "      <td>0</td>\n",
       "      <td>0</td>\n",
       "      <td>6.324555</td>\n",
       "      <td>0</td>\n",
       "      <td>0</td>\n",
       "      <td>1</td>\n",
       "      <td>0</td>\n",
       "      <td>...</td>\n",
       "      <td>0</td>\n",
       "      <td>1</td>\n",
       "      <td>0</td>\n",
       "      <td>0</td>\n",
       "      <td>0</td>\n",
       "      <td>0</td>\n",
       "      <td>0</td>\n",
       "      <td>0</td>\n",
       "      <td>0</td>\n",
       "      <td>1</td>\n",
       "    </tr>\n",
       "    <tr>\n",
       "      <td>...</td>\n",
       "      <td>...</td>\n",
       "      <td>...</td>\n",
       "      <td>...</td>\n",
       "      <td>...</td>\n",
       "      <td>...</td>\n",
       "      <td>...</td>\n",
       "      <td>...</td>\n",
       "      <td>...</td>\n",
       "      <td>...</td>\n",
       "      <td>...</td>\n",
       "      <td>...</td>\n",
       "      <td>...</td>\n",
       "      <td>...</td>\n",
       "      <td>...</td>\n",
       "      <td>...</td>\n",
       "      <td>...</td>\n",
       "      <td>...</td>\n",
       "      <td>...</td>\n",
       "      <td>...</td>\n",
       "      <td>...</td>\n",
       "      <td>...</td>\n",
       "    </tr>\n",
       "    <tr>\n",
       "      <td>30157</td>\n",
       "      <td>5.196152</td>\n",
       "      <td>12</td>\n",
       "      <td>0</td>\n",
       "      <td>0</td>\n",
       "      <td>0</td>\n",
       "      <td>6.164414</td>\n",
       "      <td>0</td>\n",
       "      <td>0</td>\n",
       "      <td>1</td>\n",
       "      <td>0</td>\n",
       "      <td>...</td>\n",
       "      <td>0</td>\n",
       "      <td>0</td>\n",
       "      <td>0</td>\n",
       "      <td>1</td>\n",
       "      <td>0</td>\n",
       "      <td>0</td>\n",
       "      <td>0</td>\n",
       "      <td>0</td>\n",
       "      <td>0</td>\n",
       "      <td>1</td>\n",
       "    </tr>\n",
       "    <tr>\n",
       "      <td>30158</td>\n",
       "      <td>6.324555</td>\n",
       "      <td>9</td>\n",
       "      <td>1</td>\n",
       "      <td>0</td>\n",
       "      <td>0</td>\n",
       "      <td>6.324555</td>\n",
       "      <td>1</td>\n",
       "      <td>0</td>\n",
       "      <td>1</td>\n",
       "      <td>0</td>\n",
       "      <td>...</td>\n",
       "      <td>0</td>\n",
       "      <td>0</td>\n",
       "      <td>0</td>\n",
       "      <td>1</td>\n",
       "      <td>1</td>\n",
       "      <td>0</td>\n",
       "      <td>0</td>\n",
       "      <td>0</td>\n",
       "      <td>0</td>\n",
       "      <td>0</td>\n",
       "    </tr>\n",
       "    <tr>\n",
       "      <td>30159</td>\n",
       "      <td>7.615773</td>\n",
       "      <td>9</td>\n",
       "      <td>0</td>\n",
       "      <td>0</td>\n",
       "      <td>0</td>\n",
       "      <td>6.324555</td>\n",
       "      <td>0</td>\n",
       "      <td>0</td>\n",
       "      <td>1</td>\n",
       "      <td>0</td>\n",
       "      <td>...</td>\n",
       "      <td>0</td>\n",
       "      <td>0</td>\n",
       "      <td>0</td>\n",
       "      <td>1</td>\n",
       "      <td>0</td>\n",
       "      <td>0</td>\n",
       "      <td>0</td>\n",
       "      <td>0</td>\n",
       "      <td>1</td>\n",
       "      <td>0</td>\n",
       "    </tr>\n",
       "    <tr>\n",
       "      <td>30160</td>\n",
       "      <td>4.690416</td>\n",
       "      <td>9</td>\n",
       "      <td>1</td>\n",
       "      <td>0</td>\n",
       "      <td>0</td>\n",
       "      <td>5.749082</td>\n",
       "      <td>0</td>\n",
       "      <td>0</td>\n",
       "      <td>1</td>\n",
       "      <td>0</td>\n",
       "      <td>...</td>\n",
       "      <td>0</td>\n",
       "      <td>0</td>\n",
       "      <td>0</td>\n",
       "      <td>1</td>\n",
       "      <td>0</td>\n",
       "      <td>0</td>\n",
       "      <td>0</td>\n",
       "      <td>1</td>\n",
       "      <td>0</td>\n",
       "      <td>0</td>\n",
       "    </tr>\n",
       "    <tr>\n",
       "      <td>30161</td>\n",
       "      <td>7.211103</td>\n",
       "      <td>9</td>\n",
       "      <td>0</td>\n",
       "      <td>15024</td>\n",
       "      <td>0</td>\n",
       "      <td>6.324555</td>\n",
       "      <td>1</td>\n",
       "      <td>0</td>\n",
       "      <td>0</td>\n",
       "      <td>1</td>\n",
       "      <td>...</td>\n",
       "      <td>0</td>\n",
       "      <td>0</td>\n",
       "      <td>0</td>\n",
       "      <td>1</td>\n",
       "      <td>0</td>\n",
       "      <td>0</td>\n",
       "      <td>0</td>\n",
       "      <td>0</td>\n",
       "      <td>0</td>\n",
       "      <td>1</td>\n",
       "    </tr>\n",
       "  </tbody>\n",
       "</table>\n",
       "<p>30148 rows × 40 columns</p>\n",
       "</div>"
      ],
      "text/plain": [
       "            age  educationNum  sex  capitalGain  capitalLoss  hoursWeek  \\\n",
       "0      6.244998            13    1         2174            0   6.324555   \n",
       "1      7.071068            13    1            0            0   5.749082   \n",
       "2      6.164414             9    1            0            0   6.324555   \n",
       "3      7.280110             7    1            0            0   6.324555   \n",
       "4      5.291503            13    0            0            0   6.324555   \n",
       "...         ...           ...  ...          ...          ...        ...   \n",
       "30157  5.196152            12    0            0            0   6.164414   \n",
       "30158  6.324555             9    1            0            0   6.324555   \n",
       "30159  7.615773             9    0            0            0   6.324555   \n",
       "30160  4.690416             9    1            0            0   5.749082   \n",
       "30161  7.211103             9    0        15024            0   6.324555   \n",
       "\n",
       "       target  Government  Private  Self-employed  ...   Asian-Pac-Islander  \\\n",
       "0           0           1        0              0  ...                    0   \n",
       "1           0           0        0              1  ...                    0   \n",
       "2           0           0        1              0  ...                    0   \n",
       "3           0           0        1              0  ...                    0   \n",
       "4           0           0        1              0  ...                    0   \n",
       "...       ...         ...      ...            ...  ...                  ...   \n",
       "30157       0           0        1              0  ...                    0   \n",
       "30158       1           0        1              0  ...                    0   \n",
       "30159       0           0        1              0  ...                    0   \n",
       "30160       0           0        1              0  ...                    0   \n",
       "30161       1           0        0              1  ...                    0   \n",
       "\n",
       "        Black   Other   White   Husband   Not-in-family   Other-relative  \\\n",
       "0           0       0       1         0               1                0   \n",
       "1           0       0       1         1               0                0   \n",
       "2           0       0       1         0               1                0   \n",
       "3           1       0       0         1               0                0   \n",
       "4           1       0       0         0               0                0   \n",
       "...       ...     ...     ...       ...             ...              ...   \n",
       "30157       0       0       1         0               0                0   \n",
       "30158       0       0       1         1               0                0   \n",
       "30159       0       0       1         0               0                0   \n",
       "30160       0       0       1         0               0                0   \n",
       "30161       0       0       1         0               0                0   \n",
       "\n",
       "        Own-child   Unmarried   Wife  \n",
       "0               0           0      0  \n",
       "1               0           0      0  \n",
       "2               0           0      0  \n",
       "3               0           0      0  \n",
       "4               0           0      1  \n",
       "...           ...         ...    ...  \n",
       "30157           0           0      1  \n",
       "30158           0           0      0  \n",
       "30159           0           1      0  \n",
       "30160           1           0      0  \n",
       "30161           0           0      1  \n",
       "\n",
       "[30148 rows x 40 columns]"
      ]
     },
     "execution_count": 55,
     "metadata": {},
     "output_type": "execute_result"
    }
   ],
   "source": [
    "df_relationship = pd.get_dummies(df_train_race.relationship)\n",
    "df_train_relationship = pd.concat([df_train_race, df_relationship],axis=1)\n",
    "\n",
    "#Erase title from df\n",
    "df_train_relationship = df_train_relationship.drop(['relationship'], axis=1)\n",
    "df_train_relationship"
   ]
  },
  {
   "cell_type": "markdown",
   "metadata": {
    "colab_type": "text",
    "id": "LSiS8zIwqEiF"
   },
   "source": [
    "## **Feature selection<a class=\"anchor\" id=\"featureselection\"></a>**"
   ]
  },
  {
   "cell_type": "markdown",
   "metadata": {
    "colab_type": "text",
    "id": "QQcOW8ojbXd3"
   },
   "source": [
    "First we separate the target and the rest of the dataset"
   ]
  },
  {
   "cell_type": "code",
   "execution_count": 56,
   "metadata": {
    "colab": {},
    "colab_type": "code",
    "id": "_pZaMfx8qEiG"
   },
   "outputs": [],
   "source": [
    "X = df_train_relationship.drop('target', axis=1)"
   ]
  },
  {
   "cell_type": "code",
   "execution_count": 57,
   "metadata": {
    "colab": {},
    "colab_type": "code",
    "id": "cxqpwJLYqEiK"
   },
   "outputs": [],
   "source": [
    "y = df_train_relationship['target']"
   ]
  },
  {
   "cell_type": "markdown",
   "metadata": {
    "colab_type": "text",
    "id": "msmCn8AaH5Wy"
   },
   "source": [
    "For the feature selection part we are going to try different methods:\n",
    "* Feature importances of tree based classifiers.\n",
    "* Univariate analysis taking into account the chi squared statistical test.\n"
   ]
  },
  {
   "cell_type": "markdown",
   "metadata": {
    "colab": {},
    "colab_type": "code",
    "id": "Icjs3tmiqEiX"
   },
   "source": [
    "### Feature importance of tree based classifiers"
   ]
  },
  {
   "cell_type": "code",
   "execution_count": 58,
   "metadata": {
    "colab": {
     "base_uri": "https://localhost:8080/",
     "height": 475
    },
    "colab_type": "code",
    "executionInfo": {
     "elapsed": 15455,
     "status": "ok",
     "timestamp": 1578781180302,
     "user": {
      "displayName": "Àlex Valls",
      "photoUrl": "",
      "userId": "01219145643472682283"
     },
     "user_tz": -60
    },
    "id": "6PmXhrrOqEia",
    "outputId": "3ecb31f5-3d30-440f-d184-b04547706a96"
   },
   "outputs": [
    {
     "name": "stdout",
     "output_type": "stream",
     "text": [
      "[2.59927788e-01 1.39240635e-01 1.44019718e-02 9.03066754e-02\n",
      " 3.01743912e-02 9.31331929e-02 6.37340033e-03 8.01584983e-03\n",
      " 6.88684112e-03 9.31098521e-03 7.38158654e-02 2.54641624e-03\n",
      " 3.47773066e-02 1.81534365e-03 4.49718213e-03 3.42262100e-05\n",
      " 6.58738079e-03 3.03446372e-02 5.74285760e-03 3.98257567e-03\n",
      " 4.73193738e-03 1.03213868e-02 2.13879691e-04 2.62670090e-02\n",
      " 2.64638784e-03 6.81083764e-03 4.90187791e-03 4.48824869e-03\n",
      " 1.91661792e-03 4.03309553e-03 4.99774488e-03 1.26687820e-03\n",
      " 6.40052184e-03 5.13044781e-02 1.26574928e-02 2.04922241e-03\n",
      " 1.13621236e-02 6.42110809e-03 1.52936292e-02]\n"
     ]
    },
    {
     "data": {
      "image/png": "[encoded data removed]",
      "text/plain": [
       "<Figure size 432x288 with 1 Axes>"
      ]
     },
     "metadata": {},
     "output_type": "display_data"
    }
   ],
   "source": [
    "model = ExtraTreesClassifier()\n",
    "model.fit(X, y)\n",
    "\n",
    "#use inbuilt class feature_importances of tree based classifiers\n",
    "print(model.feature_importances_) \n",
    "\n",
    "#plot graph of feature importances for better visualization\n",
    "feat_importances = pd.Series(model.feature_importances_, index=X.columns)\n",
    "feat_importances.nlargest(10).plot(kind='barh')\n",
    "\n",
    "plt.show()\n",
    "selected_trees = feat_importances.nlargest(10).keys()"
   ]
  },
  {
   "cell_type": "markdown",
   "metadata": {
    "colab": {},
    "colab_type": "code",
    "id": "PcP2HMTvqEih"
   },
   "source": [
    "### CHI Squared Test"
   ]
  },
  {
   "cell_type": "code",
   "execution_count": 59,
   "metadata": {
    "colab": {
     "base_uri": "https://localhost:8080/",
     "height": 219
    },
    "colab_type": "code",
    "executionInfo": {
     "elapsed": 15423,
     "status": "ok",
     "timestamp": 1578781180305,
     "user": {
      "displayName": "Àlex Valls",
      "photoUrl": "",
      "userId": "01219145643472682283"
     },
     "user_tz": -60
    },
    "id": "CzrjdqXUqEik",
    "outputId": "8293e0a6-0684-4fd5-e1c7-dd132e05335f",
    "scrolled": true
   },
   "outputs": [
    {
     "name": "stdout",
     "output_type": "stream",
     "text": [
      "               Specs         Score\n",
      "3        capitalGain  7.410595e+07\n",
      "4        capitalLoss  1.254731e+06\n",
      "10           Married  2.989728e+03\n",
      "33           Husband  2.848420e+03\n",
      "1       educationNum  2.177106e+03\n",
      "12            Single  2.093829e+03\n",
      "36         Own-child  1.313843e+03\n",
      "17   Exec-managerial  1.190698e+03\n",
      "23    Prof-specialty  8.589270e+02\n",
      "34     Not-in-family  8.390543e+02\n"
     ]
    }
   ],
   "source": [
    "#apply SelectKBest class to extract top 10 best features\n",
    "bestfeatures = SelectKBest(score_func = chi2, k=10)\n",
    "fit = bestfeatures.fit(X, y)\n",
    "\n",
    "dfscores = pd.DataFrame(fit.scores_)\n",
    "dfcolumns = pd.DataFrame(X.columns)\n",
    "\n",
    "# concat two dataframes for better visualization \n",
    "featureScores = pd.concat([dfcolumns, dfscores],axis=1)\n",
    "featureScores.columns = ['Specs','Score']  #naming the dataframe columns\n",
    "print(featureScores.nlargest(10,'Score'))  #print 10 best features\n",
    "selected_chi2 = featureScores.nlargest(10,'Score').Specs"
   ]
  },
  {
   "cell_type": "code",
   "execution_count": 50,
   "metadata": {
    "colab": {
     "base_uri": "https://localhost:8080/",
     "height": 90
    },
    "colab_type": "code",
    "executionInfo": {
     "elapsed": 15637,
     "status": "ok",
     "timestamp": 1578781180544,
     "user": {
      "displayName": "Àlex Valls",
      "photoUrl": "",
      "userId": "01219145643472682283"
     },
     "user_tz": -60
    },
    "id": "0IQ7MQrnqEio",
    "outputId": "8a010bae-0325-4625-81c5-6763c70fec4e"
   },
   "outputs": [
    {
     "name": "stdout",
     "output_type": "stream",
     "text": [
      "Index(['age', 'educationNum', 'hoursWeek', 'capitalGain', 'Married',\n",
      "       ' Husband', 'capitalLoss', ' Exec-managerial', 'Single',\n",
      "       ' Prof-specialty'],\n",
      "      dtype='object')\n"
     ]
    }
   ],
   "source": [
    "print(selected_trees)"
   ]
  },
  {
   "cell_type": "code",
   "execution_count": 51,
   "metadata": {
    "colab": {
     "base_uri": "https://localhost:8080/",
     "height": 219
    },
    "colab_type": "code",
    "executionInfo": {
     "elapsed": 15614,
     "status": "ok",
     "timestamp": 1578781180545,
     "user": {
      "displayName": "Àlex Valls",
      "photoUrl": "",
      "userId": "01219145643472682283"
     },
     "user_tz": -60
    },
    "id": "ze7ItLNCyupA",
    "outputId": "27eef465-035e-408d-a540-6ef625e0b99c"
   },
   "outputs": [
    {
     "name": "stdout",
     "output_type": "stream",
     "text": [
      "3          capitalGain\n",
      "4          capitalLoss\n",
      "10             Married\n",
      "33             Husband\n",
      "1         educationNum\n",
      "12              Single\n",
      "36           Own-child\n",
      "17     Exec-managerial\n",
      "23      Prof-specialty\n",
      "34       Not-in-family\n",
      "Name: Specs, dtype: object\n"
     ]
    }
   ],
   "source": [
    "print(selected_chi2)"
   ]
  },
  {
   "cell_type": "markdown",
   "metadata": {
    "colab_type": "text",
    "id": "kzu2-jflyedZ"
   },
   "source": [
    "We create the new X dataframe from the result. Finally we selected tree method."
   ]
  },
  {
   "cell_type": "code",
   "execution_count": 61,
   "metadata": {
    "colab": {},
    "colab_type": "code",
    "id": "lh8Pk7IQqEiv"
   },
   "outputs": [],
   "source": [
    "importantCols=selected_trees"
   ]
  },
  {
   "cell_type": "code",
   "execution_count": 98,
   "metadata": {
    "colab": {
     "base_uri": "https://localhost:8080/",
     "height": 424
    },
    "colab_type": "code",
    "executionInfo": {
     "elapsed": 15583,
     "status": "ok",
     "timestamp": 1578781180547,
     "user": {
      "displayName": "Àlex Valls",
      "photoUrl": "",
      "userId": "01219145643472682283"
     },
     "user_tz": -60
    },
    "id": "GAUtYAQ2qEi0",
    "outputId": "9e4acb2a-0c2a-4d43-a593-a45c2a11cd3a"
   },
   "outputs": [
    {
     "data": {
      "text/html": [
       "<div>\n",
       "<style scoped>\n",
       "    .dataframe tbody tr th:only-of-type {\n",
       "        vertical-align: middle;\n",
       "    }\n",
       "\n",
       "    .dataframe tbody tr th {\n",
       "        vertical-align: top;\n",
       "    }\n",
       "\n",
       "    .dataframe thead th {\n",
       "        text-align: right;\n",
       "    }\n",
       "</style>\n",
       "<table border=\"1\" class=\"dataframe\">\n",
       "  <thead>\n",
       "    <tr style=\"text-align: right;\">\n",
       "      <th></th>\n",
       "      <th>age</th>\n",
       "      <th>educationNum</th>\n",
       "      <th>Married</th>\n",
       "      <th>hoursWeek</th>\n",
       "      <th>capitalGain</th>\n",
       "      <th>Husband</th>\n",
       "      <th>capitalLoss</th>\n",
       "      <th>Exec-managerial</th>\n",
       "      <th>Prof-specialty</th>\n",
       "      <th>Wife</th>\n",
       "    </tr>\n",
       "  </thead>\n",
       "  <tbody>\n",
       "    <tr>\n",
       "      <td>0</td>\n",
       "      <td>6.244998</td>\n",
       "      <td>13</td>\n",
       "      <td>0</td>\n",
       "      <td>6.324555</td>\n",
       "      <td>2174</td>\n",
       "      <td>0</td>\n",
       "      <td>0</td>\n",
       "      <td>0</td>\n",
       "      <td>0</td>\n",
       "      <td>0</td>\n",
       "    </tr>\n",
       "    <tr>\n",
       "      <td>1</td>\n",
       "      <td>7.071068</td>\n",
       "      <td>13</td>\n",
       "      <td>1</td>\n",
       "      <td>5.749082</td>\n",
       "      <td>0</td>\n",
       "      <td>1</td>\n",
       "      <td>0</td>\n",
       "      <td>1</td>\n",
       "      <td>0</td>\n",
       "      <td>0</td>\n",
       "    </tr>\n",
       "    <tr>\n",
       "      <td>2</td>\n",
       "      <td>6.164414</td>\n",
       "      <td>9</td>\n",
       "      <td>0</td>\n",
       "      <td>6.324555</td>\n",
       "      <td>0</td>\n",
       "      <td>0</td>\n",
       "      <td>0</td>\n",
       "      <td>0</td>\n",
       "      <td>0</td>\n",
       "      <td>0</td>\n",
       "    </tr>\n",
       "    <tr>\n",
       "      <td>3</td>\n",
       "      <td>7.280110</td>\n",
       "      <td>7</td>\n",
       "      <td>1</td>\n",
       "      <td>6.324555</td>\n",
       "      <td>0</td>\n",
       "      <td>1</td>\n",
       "      <td>0</td>\n",
       "      <td>0</td>\n",
       "      <td>0</td>\n",
       "      <td>0</td>\n",
       "    </tr>\n",
       "    <tr>\n",
       "      <td>4</td>\n",
       "      <td>5.291503</td>\n",
       "      <td>13</td>\n",
       "      <td>1</td>\n",
       "      <td>6.324555</td>\n",
       "      <td>0</td>\n",
       "      <td>0</td>\n",
       "      <td>0</td>\n",
       "      <td>0</td>\n",
       "      <td>1</td>\n",
       "      <td>1</td>\n",
       "    </tr>\n",
       "    <tr>\n",
       "      <td>...</td>\n",
       "      <td>...</td>\n",
       "      <td>...</td>\n",
       "      <td>...</td>\n",
       "      <td>...</td>\n",
       "      <td>...</td>\n",
       "      <td>...</td>\n",
       "      <td>...</td>\n",
       "      <td>...</td>\n",
       "      <td>...</td>\n",
       "      <td>...</td>\n",
       "    </tr>\n",
       "    <tr>\n",
       "      <td>30157</td>\n",
       "      <td>5.196152</td>\n",
       "      <td>12</td>\n",
       "      <td>1</td>\n",
       "      <td>6.164414</td>\n",
       "      <td>0</td>\n",
       "      <td>0</td>\n",
       "      <td>0</td>\n",
       "      <td>0</td>\n",
       "      <td>0</td>\n",
       "      <td>1</td>\n",
       "    </tr>\n",
       "    <tr>\n",
       "      <td>30158</td>\n",
       "      <td>6.324555</td>\n",
       "      <td>9</td>\n",
       "      <td>1</td>\n",
       "      <td>6.324555</td>\n",
       "      <td>0</td>\n",
       "      <td>1</td>\n",
       "      <td>0</td>\n",
       "      <td>0</td>\n",
       "      <td>0</td>\n",
       "      <td>0</td>\n",
       "    </tr>\n",
       "    <tr>\n",
       "      <td>30159</td>\n",
       "      <td>7.615773</td>\n",
       "      <td>9</td>\n",
       "      <td>0</td>\n",
       "      <td>6.324555</td>\n",
       "      <td>0</td>\n",
       "      <td>0</td>\n",
       "      <td>0</td>\n",
       "      <td>0</td>\n",
       "      <td>0</td>\n",
       "      <td>0</td>\n",
       "    </tr>\n",
       "    <tr>\n",
       "      <td>30160</td>\n",
       "      <td>4.690416</td>\n",
       "      <td>9</td>\n",
       "      <td>0</td>\n",
       "      <td>5.749082</td>\n",
       "      <td>0</td>\n",
       "      <td>0</td>\n",
       "      <td>0</td>\n",
       "      <td>0</td>\n",
       "      <td>0</td>\n",
       "      <td>0</td>\n",
       "    </tr>\n",
       "    <tr>\n",
       "      <td>30161</td>\n",
       "      <td>7.211103</td>\n",
       "      <td>9</td>\n",
       "      <td>1</td>\n",
       "      <td>6.324555</td>\n",
       "      <td>15024</td>\n",
       "      <td>0</td>\n",
       "      <td>0</td>\n",
       "      <td>1</td>\n",
       "      <td>0</td>\n",
       "      <td>1</td>\n",
       "    </tr>\n",
       "  </tbody>\n",
       "</table>\n",
       "<p>30148 rows × 10 columns</p>\n",
       "</div>"
      ],
      "text/plain": [
       "            age  educationNum  Married  hoursWeek  capitalGain   Husband  \\\n",
       "0      6.244998            13        0   6.324555         2174         0   \n",
       "1      7.071068            13        1   5.749082            0         1   \n",
       "2      6.164414             9        0   6.324555            0         0   \n",
       "3      7.280110             7        1   6.324555            0         1   \n",
       "4      5.291503            13        1   6.324555            0         0   \n",
       "...         ...           ...      ...        ...          ...       ...   \n",
       "30157  5.196152            12        1   6.164414            0         0   \n",
       "30158  6.324555             9        1   6.324555            0         1   \n",
       "30159  7.615773             9        0   6.324555            0         0   \n",
       "30160  4.690416             9        0   5.749082            0         0   \n",
       "30161  7.211103             9        1   6.324555        15024         0   \n",
       "\n",
       "       capitalLoss   Exec-managerial   Prof-specialty   Wife  \n",
       "0                0                 0                0      0  \n",
       "1                0                 1                0      0  \n",
       "2                0                 0                0      0  \n",
       "3                0                 0                0      0  \n",
       "4                0                 0                1      1  \n",
       "...            ...               ...              ...    ...  \n",
       "30157            0                 0                0      1  \n",
       "30158            0                 0                0      0  \n",
       "30159            0                 0                0      0  \n",
       "30160            0                 0                0      0  \n",
       "30161            0                 1                0      1  \n",
       "\n",
       "[30148 rows x 10 columns]"
      ]
     },
     "execution_count": 98,
     "metadata": {},
     "output_type": "execute_result"
    }
   ],
   "source": [
    "X_fs = X[importantCols]\n",
    "X_fs"
   ]
  },
  {
   "cell_type": "markdown",
   "metadata": {
    "colab_type": "text",
    "id": "YzpTVwwB1irW"
   },
   "source": [
    "## **Testing dataset**\n",
    "\n",
    "The following code does everything we've done to the training dataset to prepare it to use it for the models."
   ]
  },
  {
   "cell_type": "code",
   "execution_count": 66,
   "metadata": {
    "colab": {
     "base_uri": "https://localhost:8080/",
     "height": 261
    },
    "colab_type": "code",
    "executionInfo": {
     "elapsed": 15560,
     "status": "ok",
     "timestamp": 1578781180548,
     "user": {
      "displayName": "Àlex Valls",
      "photoUrl": "",
      "userId": "01219145643472682283"
     },
     "user_tz": -60
    },
    "id": "wXEfUky51irX",
    "outputId": "01bde589-d125-43cc-9c0d-bc924e24cb91"
   },
   "outputs": [
    {
     "data": {
      "text/html": [
       "<div>\n",
       "<style scoped>\n",
       "    .dataframe tbody tr th:only-of-type {\n",
       "        vertical-align: middle;\n",
       "    }\n",
       "\n",
       "    .dataframe tbody tr th {\n",
       "        vertical-align: top;\n",
       "    }\n",
       "\n",
       "    .dataframe thead th {\n",
       "        text-align: right;\n",
       "    }\n",
       "</style>\n",
       "<table border=\"1\" class=\"dataframe\">\n",
       "  <thead>\n",
       "    <tr style=\"text-align: right;\">\n",
       "      <th></th>\n",
       "      <th>age</th>\n",
       "      <th>educationNum</th>\n",
       "      <th>sex</th>\n",
       "      <th>capitalGain</th>\n",
       "      <th>capitalLoss</th>\n",
       "      <th>hoursWeek</th>\n",
       "      <th>target</th>\n",
       "      <th>Government</th>\n",
       "      <th>Private</th>\n",
       "      <th>Self-employed</th>\n",
       "      <th>...</th>\n",
       "      <th>Asian-Pac-Islander</th>\n",
       "      <th>Black</th>\n",
       "      <th>Other</th>\n",
       "      <th>White</th>\n",
       "      <th>Husband</th>\n",
       "      <th>Not-in-family</th>\n",
       "      <th>Other-relative</th>\n",
       "      <th>Own-child</th>\n",
       "      <th>Unmarried</th>\n",
       "      <th>Wife</th>\n",
       "    </tr>\n",
       "  </thead>\n",
       "  <tbody>\n",
       "    <tr>\n",
       "      <td>0</td>\n",
       "      <td>25</td>\n",
       "      <td>7</td>\n",
       "      <td>1</td>\n",
       "      <td>0</td>\n",
       "      <td>0</td>\n",
       "      <td>40</td>\n",
       "      <td>0</td>\n",
       "      <td>0</td>\n",
       "      <td>1</td>\n",
       "      <td>0</td>\n",
       "      <td>...</td>\n",
       "      <td>0</td>\n",
       "      <td>1</td>\n",
       "      <td>0</td>\n",
       "      <td>0</td>\n",
       "      <td>0</td>\n",
       "      <td>0</td>\n",
       "      <td>0</td>\n",
       "      <td>1</td>\n",
       "      <td>0</td>\n",
       "      <td>0</td>\n",
       "    </tr>\n",
       "    <tr>\n",
       "      <td>1</td>\n",
       "      <td>38</td>\n",
       "      <td>9</td>\n",
       "      <td>1</td>\n",
       "      <td>0</td>\n",
       "      <td>0</td>\n",
       "      <td>50</td>\n",
       "      <td>0</td>\n",
       "      <td>0</td>\n",
       "      <td>1</td>\n",
       "      <td>0</td>\n",
       "      <td>...</td>\n",
       "      <td>0</td>\n",
       "      <td>0</td>\n",
       "      <td>0</td>\n",
       "      <td>1</td>\n",
       "      <td>1</td>\n",
       "      <td>0</td>\n",
       "      <td>0</td>\n",
       "      <td>0</td>\n",
       "      <td>0</td>\n",
       "      <td>0</td>\n",
       "    </tr>\n",
       "    <tr>\n",
       "      <td>2</td>\n",
       "      <td>28</td>\n",
       "      <td>12</td>\n",
       "      <td>1</td>\n",
       "      <td>0</td>\n",
       "      <td>0</td>\n",
       "      <td>40</td>\n",
       "      <td>1</td>\n",
       "      <td>1</td>\n",
       "      <td>0</td>\n",
       "      <td>0</td>\n",
       "      <td>...</td>\n",
       "      <td>0</td>\n",
       "      <td>0</td>\n",
       "      <td>0</td>\n",
       "      <td>1</td>\n",
       "      <td>1</td>\n",
       "      <td>0</td>\n",
       "      <td>0</td>\n",
       "      <td>0</td>\n",
       "      <td>0</td>\n",
       "      <td>0</td>\n",
       "    </tr>\n",
       "    <tr>\n",
       "      <td>3</td>\n",
       "      <td>44</td>\n",
       "      <td>10</td>\n",
       "      <td>1</td>\n",
       "      <td>7688</td>\n",
       "      <td>0</td>\n",
       "      <td>40</td>\n",
       "      <td>1</td>\n",
       "      <td>0</td>\n",
       "      <td>1</td>\n",
       "      <td>0</td>\n",
       "      <td>...</td>\n",
       "      <td>0</td>\n",
       "      <td>1</td>\n",
       "      <td>0</td>\n",
       "      <td>0</td>\n",
       "      <td>1</td>\n",
       "      <td>0</td>\n",
       "      <td>0</td>\n",
       "      <td>0</td>\n",
       "      <td>0</td>\n",
       "      <td>0</td>\n",
       "    </tr>\n",
       "    <tr>\n",
       "      <td>4</td>\n",
       "      <td>34</td>\n",
       "      <td>6</td>\n",
       "      <td>1</td>\n",
       "      <td>0</td>\n",
       "      <td>0</td>\n",
       "      <td>30</td>\n",
       "      <td>0</td>\n",
       "      <td>0</td>\n",
       "      <td>1</td>\n",
       "      <td>0</td>\n",
       "      <td>...</td>\n",
       "      <td>0</td>\n",
       "      <td>0</td>\n",
       "      <td>0</td>\n",
       "      <td>1</td>\n",
       "      <td>0</td>\n",
       "      <td>1</td>\n",
       "      <td>0</td>\n",
       "      <td>0</td>\n",
       "      <td>0</td>\n",
       "      <td>0</td>\n",
       "    </tr>\n",
       "  </tbody>\n",
       "</table>\n",
       "<p>5 rows × 40 columns</p>\n",
       "</div>"
      ],
      "text/plain": [
       "   age  educationNum  sex  capitalGain  capitalLoss  hoursWeek  target  \\\n",
       "0   25             7    1            0            0         40       0   \n",
       "1   38             9    1            0            0         50       0   \n",
       "2   28            12    1            0            0         40       1   \n",
       "3   44            10    1         7688            0         40       1   \n",
       "4   34             6    1            0            0         30       0   \n",
       "\n",
       "   Government  Private  Self-employed  ...   Asian-Pac-Islander   Black  \\\n",
       "0           0        1              0  ...                    0       1   \n",
       "1           0        1              0  ...                    0       0   \n",
       "2           1        0              0  ...                    0       0   \n",
       "3           0        1              0  ...                    0       1   \n",
       "4           0        1              0  ...                    0       0   \n",
       "\n",
       "    Other   White   Husband   Not-in-family   Other-relative   Own-child  \\\n",
       "0       0       0         0               0                0           1   \n",
       "1       0       1         1               0                0           0   \n",
       "2       0       1         1               0                0           0   \n",
       "3       0       0         1               0                0           0   \n",
       "4       0       1         0               1                0           0   \n",
       "\n",
       "    Unmarried   Wife  \n",
       "0           0      0  \n",
       "1           0      0  \n",
       "2           0      0  \n",
       "3           0      0  \n",
       "4           0      0  \n",
       "\n",
       "[5 rows x 40 columns]"
      ]
     },
     "execution_count": 66,
     "metadata": {},
     "output_type": "execute_result"
    }
   ],
   "source": [
    "df_test = pd.read_csv('adult_test.csv')\n",
    "df_test = df_test.replace(' ?', np.nan)\n",
    "df_test = df_test.dropna()\n",
    "df_test = df_test.reset_index(drop=True)\n",
    "df_test = df_test.drop(['fnlwgt'], axis=1)\n",
    "\n",
    "#categorical labeling\n",
    "df_test = df_test.drop(['education'], axis=1)\n",
    "le_sex = LabelEncoder()\n",
    "le_sex.fit(df_test.sex)\n",
    "df_test['sex'] = le_sex.transform(df_test.sex)\n",
    "\n",
    "le_target = LabelEncoder()\n",
    "le_target.fit(df_test.target)\n",
    "df_test['target'] = le_target.transform(df_test.target)\n",
    "\n",
    "df_no_country_test = df_test.drop(['nativeCountry'], axis=1)\n",
    "\n",
    "col_n = 'workclass'\n",
    "my_size = ' Without-pay'\n",
    "df_no_volunteers_test = df_no_country_test.query(\"{0} != '{1}'\".format(col_n, my_size))\n",
    "df_no_volunteers_test['workclass'].value_counts()\n",
    "\n",
    "maritalStatus_dictionary = {\n",
    "    \" Married-civ-spouse\": \"Married\",\n",
    "    \" Married-spouse-absent\": \"Married\",\n",
    "    \" Married-AF-spouse\": \"Married\",\n",
    "    \" Never-married\": \"Single\",\n",
    "    \" Divorced\": \"Divorced\",\n",
    "    \" Separated\" : \"Separated\",\n",
    "    \" Widowed\" :  \"Widowed\"\n",
    "}\n",
    "\n",
    "workclass_dictionary = {\n",
    "    \" Private\": \"Private\",\n",
    "    \" Self-emp-not-inc\": \"Self-employed\",\n",
    "    \" Self-emp-inc\": \"Self-employed\",\n",
    "    \" Federal-gov\": \"Government\",\n",
    "    \" Local-gov\": \"Government\",\n",
    "    \" State-gov\" : \"Government\"\n",
    "}\n",
    "\n",
    "df_no_volunteers_test['workclass'] = df_no_volunteers_test.workclass.map(workclass_dictionary)\n",
    "df_workclass_test = pd.get_dummies(df_no_volunteers_test.workclass)\n",
    "df_train_workclass_test = pd.concat([df_no_volunteers_test, df_workclass_test],axis=1)\n",
    "df_train_workclass_test = df_train_workclass_test.drop(['workclass'], axis=1)\n",
    "\n",
    "df_train_workclass_test['maritalStatus'] = df_train_workclass_test.maritalStatus.map(maritalStatus_dictionary)\n",
    "df_maritalStatus_test = pd.get_dummies(df_train_workclass_test.maritalStatus)\n",
    "df_train_maritalStatus_test = pd.concat([df_train_workclass_test, df_maritalStatus_test],axis=1)\n",
    "df_train_maritalStatus_test = df_train_maritalStatus_test.drop(['maritalStatus'], axis=1)\n",
    "\n",
    "df_occupation_test = pd.get_dummies(df_train_maritalStatus_test.occupation)\n",
    "df_train_occupation_test = pd.concat([df_train_maritalStatus_test, df_occupation_test],axis=1)\n",
    "df_train_occupation_test = df_train_occupation_test.drop(['occupation'], axis=1)\n",
    "\n",
    "df_race_test = pd.get_dummies(df_train_occupation_test.race)\n",
    "df_train_race_test = pd.concat([df_train_occupation_test, df_race_test],axis=1)\n",
    "df_train_race_test = df_train_race_test.drop(['race'], axis=1)\n",
    "\n",
    "df_relationship_test = pd.get_dummies(df_train_race_test.relationship)\n",
    "df_train_relationship_test = pd.concat([df_train_race_test, df_relationship_test],axis=1)\n",
    "\n",
    "#Erase title from df\n",
    "df_test_final = df_train_relationship_test.drop(['relationship'], axis=1)\n",
    "\n",
    "df_test_final.head()\n",
    "##probar con esto sino se tienen que modificar age y hoursWeek como positively skewed como el train dataset"
   ]
  },
  {
   "cell_type": "markdown",
   "metadata": {
    "colab_type": "text",
    "id": "uRuixtWWouSB"
   },
   "source": [
    "# **Resample method**"
   ]
  },
  {
   "cell_type": "markdown",
   "metadata": {
    "colab_type": "text",
    "id": "4aeHc54FqEi4"
   },
   "source": [
    "The resampling protocol that we used:\n",
    "\n",
    "We decided to use a **K-Folds Cross Validation**. We must assure that our model got the correct patterns from the data, and it is not getting up too much noise so in an effort to do so we use this method in which we split the dataset into k number of subsets(or folds) then we perform training on all the subsets but leave one (k-1) subset for the evaluation of the trained model. "
   ]
  },
  {
   "cell_type": "markdown",
   "metadata": {
    "colab_type": "text",
    "id": "7CHQ5X_VqEi9"
   },
   "source": [
    "**K-Folds Cross Validation**"
   ]
  },
  {
   "cell_type": "code",
   "execution_count": 128,
   "metadata": {
    "colab": {
     "base_uri": "https://localhost:8080/",
     "height": 424
    },
    "colab_type": "code",
    "executionInfo": {
     "elapsed": 591,
     "status": "ok",
     "timestamp": 1578783102973,
     "user": {
      "displayName": "Àlex Valls",
      "photoUrl": "",
      "userId": "01219145643472682283"
     },
     "user_tz": -60
    },
    "id": "rhCEt30Cto8_",
    "outputId": "228ea2f7-b274-4854-80a8-eaa607fe914c"
   },
   "outputs": [
    {
     "data": {
      "text/html": [
       "<div>\n",
       "<style scoped>\n",
       "    .dataframe tbody tr th:only-of-type {\n",
       "        vertical-align: middle;\n",
       "    }\n",
       "\n",
       "    .dataframe tbody tr th {\n",
       "        vertical-align: top;\n",
       "    }\n",
       "\n",
       "    .dataframe thead th {\n",
       "        text-align: right;\n",
       "    }\n",
       "</style>\n",
       "<table border=\"1\" class=\"dataframe\">\n",
       "  <thead>\n",
       "    <tr style=\"text-align: right;\">\n",
       "      <th></th>\n",
       "      <th>age</th>\n",
       "      <th>educationNum</th>\n",
       "      <th>Married</th>\n",
       "      <th>hoursWeek</th>\n",
       "      <th>capitalGain</th>\n",
       "      <th>Husband</th>\n",
       "      <th>capitalLoss</th>\n",
       "      <th>Exec-managerial</th>\n",
       "      <th>Prof-specialty</th>\n",
       "      <th>Wife</th>\n",
       "      <th>target</th>\n",
       "    </tr>\n",
       "  </thead>\n",
       "  <tbody>\n",
       "    <tr>\n",
       "      <td>0</td>\n",
       "      <td>6.244998</td>\n",
       "      <td>13</td>\n",
       "      <td>0</td>\n",
       "      <td>6.324555</td>\n",
       "      <td>2174</td>\n",
       "      <td>0</td>\n",
       "      <td>0</td>\n",
       "      <td>0</td>\n",
       "      <td>0</td>\n",
       "      <td>0</td>\n",
       "      <td>0</td>\n",
       "    </tr>\n",
       "    <tr>\n",
       "      <td>1</td>\n",
       "      <td>7.071068</td>\n",
       "      <td>13</td>\n",
       "      <td>1</td>\n",
       "      <td>5.749082</td>\n",
       "      <td>0</td>\n",
       "      <td>1</td>\n",
       "      <td>0</td>\n",
       "      <td>1</td>\n",
       "      <td>0</td>\n",
       "      <td>0</td>\n",
       "      <td>0</td>\n",
       "    </tr>\n",
       "    <tr>\n",
       "      <td>2</td>\n",
       "      <td>6.164414</td>\n",
       "      <td>9</td>\n",
       "      <td>0</td>\n",
       "      <td>6.324555</td>\n",
       "      <td>0</td>\n",
       "      <td>0</td>\n",
       "      <td>0</td>\n",
       "      <td>0</td>\n",
       "      <td>0</td>\n",
       "      <td>0</td>\n",
       "      <td>0</td>\n",
       "    </tr>\n",
       "    <tr>\n",
       "      <td>3</td>\n",
       "      <td>7.280110</td>\n",
       "      <td>7</td>\n",
       "      <td>1</td>\n",
       "      <td>6.324555</td>\n",
       "      <td>0</td>\n",
       "      <td>1</td>\n",
       "      <td>0</td>\n",
       "      <td>0</td>\n",
       "      <td>0</td>\n",
       "      <td>0</td>\n",
       "      <td>0</td>\n",
       "    </tr>\n",
       "    <tr>\n",
       "      <td>4</td>\n",
       "      <td>5.291503</td>\n",
       "      <td>13</td>\n",
       "      <td>1</td>\n",
       "      <td>6.324555</td>\n",
       "      <td>0</td>\n",
       "      <td>0</td>\n",
       "      <td>0</td>\n",
       "      <td>0</td>\n",
       "      <td>1</td>\n",
       "      <td>1</td>\n",
       "      <td>0</td>\n",
       "    </tr>\n",
       "    <tr>\n",
       "      <td>...</td>\n",
       "      <td>...</td>\n",
       "      <td>...</td>\n",
       "      <td>...</td>\n",
       "      <td>...</td>\n",
       "      <td>...</td>\n",
       "      <td>...</td>\n",
       "      <td>...</td>\n",
       "      <td>...</td>\n",
       "      <td>...</td>\n",
       "      <td>...</td>\n",
       "      <td>...</td>\n",
       "    </tr>\n",
       "    <tr>\n",
       "      <td>30157</td>\n",
       "      <td>5.196152</td>\n",
       "      <td>12</td>\n",
       "      <td>1</td>\n",
       "      <td>6.164414</td>\n",
       "      <td>0</td>\n",
       "      <td>0</td>\n",
       "      <td>0</td>\n",
       "      <td>0</td>\n",
       "      <td>0</td>\n",
       "      <td>1</td>\n",
       "      <td>0</td>\n",
       "    </tr>\n",
       "    <tr>\n",
       "      <td>30158</td>\n",
       "      <td>6.324555</td>\n",
       "      <td>9</td>\n",
       "      <td>1</td>\n",
       "      <td>6.324555</td>\n",
       "      <td>0</td>\n",
       "      <td>1</td>\n",
       "      <td>0</td>\n",
       "      <td>0</td>\n",
       "      <td>0</td>\n",
       "      <td>0</td>\n",
       "      <td>1</td>\n",
       "    </tr>\n",
       "    <tr>\n",
       "      <td>30159</td>\n",
       "      <td>7.615773</td>\n",
       "      <td>9</td>\n",
       "      <td>0</td>\n",
       "      <td>6.324555</td>\n",
       "      <td>0</td>\n",
       "      <td>0</td>\n",
       "      <td>0</td>\n",
       "      <td>0</td>\n",
       "      <td>0</td>\n",
       "      <td>0</td>\n",
       "      <td>0</td>\n",
       "    </tr>\n",
       "    <tr>\n",
       "      <td>30160</td>\n",
       "      <td>4.690416</td>\n",
       "      <td>9</td>\n",
       "      <td>0</td>\n",
       "      <td>5.749082</td>\n",
       "      <td>0</td>\n",
       "      <td>0</td>\n",
       "      <td>0</td>\n",
       "      <td>0</td>\n",
       "      <td>0</td>\n",
       "      <td>0</td>\n",
       "      <td>0</td>\n",
       "    </tr>\n",
       "    <tr>\n",
       "      <td>30161</td>\n",
       "      <td>7.211103</td>\n",
       "      <td>9</td>\n",
       "      <td>1</td>\n",
       "      <td>6.324555</td>\n",
       "      <td>15024</td>\n",
       "      <td>0</td>\n",
       "      <td>0</td>\n",
       "      <td>1</td>\n",
       "      <td>0</td>\n",
       "      <td>1</td>\n",
       "      <td>1</td>\n",
       "    </tr>\n",
       "  </tbody>\n",
       "</table>\n",
       "<p>30148 rows × 11 columns</p>\n",
       "</div>"
      ],
      "text/plain": [
       "            age  educationNum  Married  hoursWeek  capitalGain   Husband  \\\n",
       "0      6.244998            13        0   6.324555         2174         0   \n",
       "1      7.071068            13        1   5.749082            0         1   \n",
       "2      6.164414             9        0   6.324555            0         0   \n",
       "3      7.280110             7        1   6.324555            0         1   \n",
       "4      5.291503            13        1   6.324555            0         0   \n",
       "...         ...           ...      ...        ...          ...       ...   \n",
       "30157  5.196152            12        1   6.164414            0         0   \n",
       "30158  6.324555             9        1   6.324555            0         1   \n",
       "30159  7.615773             9        0   6.324555            0         0   \n",
       "30160  4.690416             9        0   5.749082            0         0   \n",
       "30161  7.211103             9        1   6.324555        15024         0   \n",
       "\n",
       "       capitalLoss   Exec-managerial   Prof-specialty   Wife  target  \n",
       "0                0                 0                0      0       0  \n",
       "1                0                 1                0      0       0  \n",
       "2                0                 0                0      0       0  \n",
       "3                0                 0                0      0       0  \n",
       "4                0                 0                1      1       0  \n",
       "...            ...               ...              ...    ...     ...  \n",
       "30157            0                 0                0      1       0  \n",
       "30158            0                 0                0      0       1  \n",
       "30159            0                 0                0      0       0  \n",
       "30160            0                 0                0      0       0  \n",
       "30161            0                 1                0      1       1  \n",
       "\n",
       "[30148 rows x 11 columns]"
      ]
     },
     "execution_count": 128,
     "metadata": {},
     "output_type": "execute_result"
    }
   ],
   "source": [
    "aux = pd.concat([X_fs,y],axis=1)\n",
    "aux"
   ]
  },
  {
   "cell_type": "code",
   "execution_count": 133,
   "metadata": {
    "colab": {
     "base_uri": "https://localhost:8080/",
     "height": 35
    },
    "colab_type": "code",
    "executionInfo": {
     "elapsed": 583,
     "status": "ok",
     "timestamp": 1578783113848,
     "user": {
      "displayName": "Àlex Valls",
      "photoUrl": "",
      "userId": "01219145643472682283"
     },
     "user_tz": -60
    },
    "id": "t18rpTRlqEi-",
    "outputId": "2f0862e5-8b25-40b8-fe4f-4b9b31ba32d4"
   },
   "outputs": [
    {
     "name": "stdout",
     "output_type": "stream",
     "text": [
      "(array([15074, 15075, 15076, ..., 30145, 30146, 30147]), array([    0,     1,     2, ..., 15071, 15072, 15073]))\n"
     ]
    }
   ],
   "source": [
    "from sklearn.model_selection import KFold # import KFold\n",
    "kf = KFold(n_splits=2, random_state=42, shuffle=False) # Define the split - into 2 folds \n",
    "result = next(kf.split(aux), None)\n",
    "print(result)"
   ]
  },
  {
   "cell_type": "markdown",
   "metadata": {
    "colab_type": "text",
    "id": "V0nbDqXwcrCL"
   },
   "source": [
    "Now we create the trainning and test sets from the result of Cross Validation"
   ]
  },
  {
   "cell_type": "code",
   "execution_count": 134,
   "metadata": {
    "colab": {},
    "colab_type": "code",
    "id": "fqH_Z8K2qEjF"
   },
   "outputs": [],
   "source": [
    "#Using feature selection\n",
    "X_train = X_fs.iloc[result[0]]\n",
    "X_test =  X_fs.iloc[result[1]]\n",
    "y_train = y.iloc[result[0]]\n",
    "y_test =  y.iloc[result[1]]\n",
    "\n",
    "#Not using feature selection\n",
    "#X_train = X.iloc[result[0]]\n",
    "#X_test =  X.iloc[result[1]]"
   ]
  },
  {
   "cell_type": "markdown",
   "metadata": {
    "colab_type": "text",
    "id": "n5DDCqwZ0yLJ"
   },
   "source": [
    "# **Linear/quadratic models**"
   ]
  },
  {
   "cell_type": "markdown",
   "metadata": {
    "colab_type": "text",
    "id": "zIAilj_PqEjU"
   },
   "source": [
    "The results obtained using three linear/quadratic methods (indicating the best set of\n",
    "parameters for each one):\n",
    "\n",
    "** logistic regression\n",
    "** k nearest-neighbours\n",
    "** linear SVM (dijo que coger este y luego el que tiene el kerne de RBF nos daria una comparativa guay )"
   ]
  },
  {
   "cell_type": "markdown",
   "metadata": {
    "colab_type": "text",
    "id": "RZSa1c_XJkcU"
   },
   "source": [
    "**Logistic Regression**"
   ]
  },
  {
   "cell_type": "code",
   "execution_count": 135,
   "metadata": {
    "colab": {
     "base_uri": "https://localhost:8080/",
     "height": 35
    },
    "colab_type": "code",
    "executionInfo": {
     "elapsed": 1252,
     "status": "ok",
     "timestamp": 1578785881968,
     "user": {
      "displayName": "Àlex Valls",
      "photoUrl": "",
      "userId": "01219145643472682283"
     },
     "user_tz": -60
    },
    "id": "2si0e5tXd1By",
    "outputId": "193ce8a1-2c55-4566-e201-258217f28edb"
   },
   "outputs": [
    {
     "name": "stdout",
     "output_type": "stream",
     "text": [
      "0.7747777630356906\n"
     ]
    }
   ],
   "source": [
    "lm = LogisticRegression(solver='lbfgs', max_iter=10)\n",
    "lm.fit(X_train, y_train)\n",
    "print(lm.score(X_test, y_test))"
   ]
  },
  {
   "cell_type": "code",
   "execution_count": 136,
   "metadata": {
    "colab": {
     "base_uri": "https://localhost:8080/",
     "height": 530
    },
    "colab_type": "code",
    "executionInfo": {
     "elapsed": 938,
     "status": "ok",
     "timestamp": 1578772355253,
     "user": {
      "displayName": "Àlex Valls",
      "photoUrl": "",
      "userId": "01219145643472682283"
     },
     "user_tz": -60
    },
    "id": "R6fXABx3e0Tm",
    "outputId": "3b4294bf-081c-4423-9796-ee809b04bba2"
   },
   "outputs": [
    {
     "data": {
      "text/html": [
       "<div>\n",
       "<style scoped>\n",
       "    .dataframe tbody tr th:only-of-type {\n",
       "        vertical-align: middle;\n",
       "    }\n",
       "\n",
       "    .dataframe tbody tr th {\n",
       "        vertical-align: top;\n",
       "    }\n",
       "\n",
       "    .dataframe thead th {\n",
       "        text-align: right;\n",
       "    }\n",
       "</style>\n",
       "<table border=\"1\" class=\"dataframe\">\n",
       "  <thead>\n",
       "    <tr style=\"text-align: right;\">\n",
       "      <th>Predicted</th>\n",
       "      <th>0</th>\n",
       "      <th>1</th>\n",
       "    </tr>\n",
       "    <tr>\n",
       "      <th>Actual</th>\n",
       "      <th></th>\n",
       "      <th></th>\n",
       "    </tr>\n",
       "  </thead>\n",
       "  <tbody>\n",
       "    <tr>\n",
       "      <td>0</td>\n",
       "      <td>10528</td>\n",
       "      <td>821</td>\n",
       "    </tr>\n",
       "    <tr>\n",
       "      <td>1</td>\n",
       "      <td>2574</td>\n",
       "      <td>1151</td>\n",
       "    </tr>\n",
       "  </tbody>\n",
       "</table>\n",
       "</div>"
      ],
      "text/plain": [
       "Predicted      0     1\n",
       "Actual                \n",
       "0          10528   821\n",
       "1           2574  1151"
      ]
     },
     "execution_count": 136,
     "metadata": {},
     "output_type": "execute_result"
    },
    {
     "data": {
      "image/png": "[encoded data removed]",
      "text/plain": [
       "<Figure size 864x432 with 2 Axes>"
      ]
     },
     "metadata": {},
     "output_type": "display_data"
    }
   ],
   "source": [
    "y_pred_LR = lm.predict(X_test)\n",
    "confusionMatrix(y_test, y_pred_LR)"
   ]
  },
  {
   "cell_type": "markdown",
   "metadata": {
    "colab_type": "text",
    "id": "4o-U2539_8ul"
   },
   "source": [
    "**k nearest-neighbours**\n",
    "\n",
    "The principle behind nearest neighbor methods is to find a predefined number of training samples closest in distance to the new point, and predict the label from these. The number of samples can be a user-defined constant (k-nearest neighbor learning), or vary based on the local density of points (radius-based neighbor learning). The distance can, in general, be any metric measure: standard Euclidean distance is the most common choice. "
   ]
  },
  {
   "cell_type": "code",
   "execution_count": 116,
   "metadata": {
    "colab": {
     "base_uri": "https://localhost:8080/",
     "height": 35
    },
    "colab_type": "code",
    "executionInfo": {
     "elapsed": 2733,
     "status": "ok",
     "timestamp": 1578785886604,
     "user": {
      "displayName": "Àlex Valls",
      "photoUrl": "",
      "userId": "01219145643472682283"
     },
     "user_tz": -60
    },
    "id": "oyDHutYlqEjV",
    "outputId": "e1a00b4a-af2c-4a7f-c24c-14fc9f7aef3b"
   },
   "outputs": [
    {
     "name": "stdout",
     "output_type": "stream",
     "text": [
      "0.8393923311662466\n"
     ]
    }
   ],
   "source": [
    "knn = KNeighborsClassifier(n_neighbors=2)\n",
    "knn.fit(X_train, y_train)\n",
    "print(knn.score(X_test, y_test))"
   ]
  },
  {
   "cell_type": "code",
   "execution_count": 117,
   "metadata": {
    "colab": {
     "base_uri": "https://localhost:8080/",
     "height": 530
    },
    "colab_type": "code",
    "executionInfo": {
     "elapsed": 2569,
     "status": "ok",
     "timestamp": 1578783293166,
     "user": {
      "displayName": "Àlex Valls",
      "photoUrl": "",
      "userId": "01219145643472682283"
     },
     "user_tz": -60
    },
    "id": "mmQk_SNZqEjZ",
    "outputId": "4907fc36-596a-439b-b133-147d4a19506a"
   },
   "outputs": [
    {
     "data": {
      "text/html": [
       "<div>\n",
       "<style scoped>\n",
       "    .dataframe tbody tr th:only-of-type {\n",
       "        vertical-align: middle;\n",
       "    }\n",
       "\n",
       "    .dataframe tbody tr th {\n",
       "        vertical-align: top;\n",
       "    }\n",
       "\n",
       "    .dataframe thead th {\n",
       "        text-align: right;\n",
       "    }\n",
       "</style>\n",
       "<table border=\"1\" class=\"dataframe\">\n",
       "  <thead>\n",
       "    <tr style=\"text-align: right;\">\n",
       "      <th>Predicted</th>\n",
       "      <th>0</th>\n",
       "      <th>1</th>\n",
       "    </tr>\n",
       "    <tr>\n",
       "      <th>Actual</th>\n",
       "      <th></th>\n",
       "      <th></th>\n",
       "    </tr>\n",
       "  </thead>\n",
       "  <tbody>\n",
       "    <tr>\n",
       "      <td>0</td>\n",
       "      <td>10847</td>\n",
       "      <td>502</td>\n",
       "    </tr>\n",
       "    <tr>\n",
       "      <td>1</td>\n",
       "      <td>1919</td>\n",
       "      <td>1806</td>\n",
       "    </tr>\n",
       "  </tbody>\n",
       "</table>\n",
       "</div>"
      ],
      "text/plain": [
       "Predicted      0     1\n",
       "Actual                \n",
       "0          10847   502\n",
       "1           1919  1806"
      ]
     },
     "execution_count": 117,
     "metadata": {},
     "output_type": "execute_result"
    },
    {
     "data": {
      "image/png": "[encoded data removed]",
      "text/plain": [
       "<Figure size 864x432 with 2 Axes>"
      ]
     },
     "metadata": {},
     "output_type": "display_data"
    }
   ],
   "source": [
    "y_pred_KNN = knn.predict(X_test)\n",
    "confusionMatrix(y_test, y_pred_KNN)"
   ]
  },
  {
   "cell_type": "markdown",
   "metadata": {
    "colab_type": "text",
    "id": "Wq2mMqpKdzyd"
   },
   "source": [
    "***Linear SVM***\n",
    "\n",
    "Similar to SVC with parameter kernel=’linear’, but implemented in terms of liblinear rather than libsvm, so it has more flexibility in the choice of penalties and loss functions and should scale better to large numbers of samples."
   ]
  },
  {
   "cell_type": "code",
   "execution_count": 118,
   "metadata": {
    "colab": {
     "base_uri": "https://localhost:8080/",
     "height": 35
    },
    "colab_type": "code",
    "executionInfo": {
     "elapsed": 1501,
     "status": "ok",
     "timestamp": 1578785890936,
     "user": {
      "displayName": "Àlex Valls",
      "photoUrl": "",
      "userId": "01219145643472682283"
     },
     "user_tz": -60
    },
    "id": "qaAvftAKdzZ8",
    "outputId": "d20cf1d9-df47-403f-81d0-8e9d05e39c2d"
   },
   "outputs": [
    {
     "name": "stdout",
     "output_type": "stream",
     "text": [
      "0.8403210826588828\n"
     ]
    }
   ],
   "source": [
    "svmlineal = LinearSVC(C=0.01, penalty=\"l1\", dual=False)\n",
    "svmlineal.fit(X_train, y_train)\n",
    "print(svmlineal.score(X_test, y_test))"
   ]
  },
  {
   "cell_type": "code",
   "execution_count": 119,
   "metadata": {
    "colab": {
     "base_uri": "https://localhost:8080/",
     "height": 530
    },
    "colab_type": "code",
    "executionInfo": {
     "elapsed": 943,
     "status": "ok",
     "timestamp": 1578783324042,
     "user": {
      "displayName": "Àlex Valls",
      "photoUrl": "",
      "userId": "01219145643472682283"
     },
     "user_tz": -60
    },
    "id": "hYi1ZIpSpXjM",
    "outputId": "411fae88-bf2d-4ed9-9617-2476987a4324"
   },
   "outputs": [
    {
     "data": {
      "text/html": [
       "<div>\n",
       "<style scoped>\n",
       "    .dataframe tbody tr th:only-of-type {\n",
       "        vertical-align: middle;\n",
       "    }\n",
       "\n",
       "    .dataframe tbody tr th {\n",
       "        vertical-align: top;\n",
       "    }\n",
       "\n",
       "    .dataframe thead th {\n",
       "        text-align: right;\n",
       "    }\n",
       "</style>\n",
       "<table border=\"1\" class=\"dataframe\">\n",
       "  <thead>\n",
       "    <tr style=\"text-align: right;\">\n",
       "      <th>Predicted</th>\n",
       "      <th>0</th>\n",
       "      <th>1</th>\n",
       "    </tr>\n",
       "    <tr>\n",
       "      <th>Actual</th>\n",
       "      <th></th>\n",
       "      <th></th>\n",
       "    </tr>\n",
       "  </thead>\n",
       "  <tbody>\n",
       "    <tr>\n",
       "      <td>0</td>\n",
       "      <td>10715</td>\n",
       "      <td>634</td>\n",
       "    </tr>\n",
       "    <tr>\n",
       "      <td>1</td>\n",
       "      <td>1773</td>\n",
       "      <td>1952</td>\n",
       "    </tr>\n",
       "  </tbody>\n",
       "</table>\n",
       "</div>"
      ],
      "text/plain": [
       "Predicted      0     1\n",
       "Actual                \n",
       "0          10715   634\n",
       "1           1773  1952"
      ]
     },
     "execution_count": 119,
     "metadata": {},
     "output_type": "execute_result"
    },
    {
     "data": {
      "image/png": "[encoded data removed]",
      "text/plain": [
       "<Figure size 864x432 with 2 Axes>"
      ]
     },
     "metadata": {},
     "output_type": "display_data"
    }
   ],
   "source": [
    "y_pred_lsvm = svmlineal.predict(X_test)\n",
    "confusionMatrix(y_test, y_pred_lsvm)"
   ]
  },
  {
   "cell_type": "markdown",
   "metadata": {
    "colab_type": "text",
    "id": "q203czUs06cE"
   },
   "source": [
    "# **Non-linear models**"
   ]
  },
  {
   "cell_type": "markdown",
   "metadata": {
    "colab_type": "text",
    "id": "p3inModBqEje"
   },
   "source": [
    "\n",
    "**SVM with RBF kernel**\n",
    "\n",
    "The advantages of support vector machines are: They're effective in high dimensional spaces. Still effective in cases where number of dimensions is greater than the number of samples. Uses a subset of training points in the decision function (called support vectors), so it is also memory efficient. They're also versatile and have different Kernel functions can be specified for the decision function."
   ]
  },
  {
   "cell_type": "code",
   "execution_count": 120,
   "metadata": {
    "colab": {
     "base_uri": "https://localhost:8080/",
     "height": 35
    },
    "colab_type": "code",
    "executionInfo": {
     "elapsed": 7995,
     "status": "ok",
     "timestamp": 1578785900968,
     "user": {
      "displayName": "Àlex Valls",
      "photoUrl": "",
      "userId": "01219145643472682283"
     },
     "user_tz": -60
    },
    "id": "7XKtnsGpqEjg",
    "outputId": "493ccf72-3a05-4f94-bd7f-8f7435db6805"
   },
   "outputs": [
    {
     "name": "stdout",
     "output_type": "stream",
     "text": [
      "0.8559108398567069\n"
     ]
    }
   ],
   "source": [
    "svmrbf = SVC(kernel='rbf', random_state=0, gamma=.01, C=1)\n",
    "svmrbf.fit(X_train, y_train)\n",
    "print(svmrbf.score(X_test, y_test))"
   ]
  },
  {
   "cell_type": "code",
   "execution_count": 121,
   "metadata": {
    "colab": {
     "base_uri": "https://localhost:8080/",
     "height": 530
    },
    "colab_type": "code",
    "executionInfo": {
     "elapsed": 3537,
     "status": "ok",
     "timestamp": 1578783340140,
     "user": {
      "displayName": "Àlex Valls",
      "photoUrl": "",
      "userId": "01219145643472682283"
     },
     "user_tz": -60
    },
    "id": "jJVnrFKFqEjr",
    "outputId": "74d1ffe0-7078-4285-9d00-3d6e99cdb0e3"
   },
   "outputs": [
    {
     "data": {
      "text/html": [
       "<div>\n",
       "<style scoped>\n",
       "    .dataframe tbody tr th:only-of-type {\n",
       "        vertical-align: middle;\n",
       "    }\n",
       "\n",
       "    .dataframe tbody tr th {\n",
       "        vertical-align: top;\n",
       "    }\n",
       "\n",
       "    .dataframe thead th {\n",
       "        text-align: right;\n",
       "    }\n",
       "</style>\n",
       "<table border=\"1\" class=\"dataframe\">\n",
       "  <thead>\n",
       "    <tr style=\"text-align: right;\">\n",
       "      <th>Predicted</th>\n",
       "      <th>0</th>\n",
       "      <th>1</th>\n",
       "    </tr>\n",
       "    <tr>\n",
       "      <th>Actual</th>\n",
       "      <th></th>\n",
       "      <th></th>\n",
       "    </tr>\n",
       "  </thead>\n",
       "  <tbody>\n",
       "    <tr>\n",
       "      <td>0</td>\n",
       "      <td>10753</td>\n",
       "      <td>596</td>\n",
       "    </tr>\n",
       "    <tr>\n",
       "      <td>1</td>\n",
       "      <td>1576</td>\n",
       "      <td>2149</td>\n",
       "    </tr>\n",
       "  </tbody>\n",
       "</table>\n",
       "</div>"
      ],
      "text/plain": [
       "Predicted      0     1\n",
       "Actual                \n",
       "0          10753   596\n",
       "1           1576  2149"
      ]
     },
     "execution_count": 121,
     "metadata": {},
     "output_type": "execute_result"
    },
    {
     "data": {
      "image/png": "[encoded data removed]",
      "text/plain": [
       "<Figure size 864x432 with 2 Axes>"
      ]
     },
     "metadata": {},
     "output_type": "display_data"
    }
   ],
   "source": [
    "y_pred_rbf = svmrbf.predict(X_test)\n",
    "confusionMatrix(y_test, y_pred_rbf)"
   ]
  },
  {
   "cell_type": "code",
   "execution_count": null,
   "metadata": {},
   "outputs": [],
   "source": [
    "#testing another parameters\n",
    "svmrbf = SVC(kernel='rbf', random_state=0, gamma=.01, C=1)\n",
    "svmrbf.fit(X_train, y_train)\n",
    "print(svmrbf.score(X_test, y_test))\n",
    "\n",
    "y_pred_rbf = svmrbf.predict(X_test)\n",
    "confusionMatrix(y_test, y_pred_rbf)"
   ]
  },
  {
   "cell_type": "markdown",
   "metadata": {
    "colab_type": "text",
    "id": "EqUa6gN1fji3"
   },
   "source": [
    "**Random Forest**\n",
    "\n",
    "A random forest is a meta estimator that fits a number of decision tree classifiers on various sub-samples of the dataset and uses averaging to improve the predictive accuracy and control over-fitting. The sub-sample size is always the same as the original input sample size but the samples are drawn with replacement if bootstrap=True (default)."
   ]
  },
  {
   "cell_type": "code",
   "execution_count": 122,
   "metadata": {
    "colab": {
     "base_uri": "https://localhost:8080/",
     "height": 35
    },
    "colab_type": "code",
    "executionInfo": {
     "elapsed": 551,
     "status": "ok",
     "timestamp": 1578784208056,
     "user": {
      "displayName": "Àlex Valls",
      "photoUrl": "",
      "userId": "01219145643472682283"
     },
     "user_tz": -60
    },
    "id": "uWfX5HHRfsqN",
    "outputId": "0dda0dd7-f13f-4df6-c7d2-72fd5734c2c8"
   },
   "outputs": [
    {
     "name": "stdout",
     "output_type": "stream",
     "text": [
      "0.8460926097916943\n"
     ]
    }
   ],
   "source": [
    "rf = RandomForestClassifier(n_estimators = 10, max_depth=5, random_state = 0)\n",
    "rf.fit(X_train, y_train)\n",
    "print(rf.score(X_test, y_test))"
   ]
  },
  {
   "cell_type": "code",
   "execution_count": 123,
   "metadata": {
    "colab": {
     "base_uri": "https://localhost:8080/",
     "height": 530
    },
    "colab_type": "code",
    "executionInfo": {
     "elapsed": 979,
     "status": "ok",
     "timestamp": 1578783353998,
     "user": {
      "displayName": "Àlex Valls",
      "photoUrl": "",
      "userId": "01219145643472682283"
     },
     "user_tz": -60
    },
    "id": "BTsbQaYffsmw",
    "outputId": "ace1c870-4d6e-4715-8db2-2353baafd131"
   },
   "outputs": [
    {
     "data": {
      "text/html": [
       "<div>\n",
       "<style scoped>\n",
       "    .dataframe tbody tr th:only-of-type {\n",
       "        vertical-align: middle;\n",
       "    }\n",
       "\n",
       "    .dataframe tbody tr th {\n",
       "        vertical-align: top;\n",
       "    }\n",
       "\n",
       "    .dataframe thead th {\n",
       "        text-align: right;\n",
       "    }\n",
       "</style>\n",
       "<table border=\"1\" class=\"dataframe\">\n",
       "  <thead>\n",
       "    <tr style=\"text-align: right;\">\n",
       "      <th>Predicted</th>\n",
       "      <th>0</th>\n",
       "      <th>1</th>\n",
       "    </tr>\n",
       "    <tr>\n",
       "      <th>Actual</th>\n",
       "      <th></th>\n",
       "      <th></th>\n",
       "    </tr>\n",
       "  </thead>\n",
       "  <tbody>\n",
       "    <tr>\n",
       "      <td>0</td>\n",
       "      <td>10853</td>\n",
       "      <td>496</td>\n",
       "    </tr>\n",
       "    <tr>\n",
       "      <td>1</td>\n",
       "      <td>1824</td>\n",
       "      <td>1901</td>\n",
       "    </tr>\n",
       "  </tbody>\n",
       "</table>\n",
       "</div>"
      ],
      "text/plain": [
       "Predicted      0     1\n",
       "Actual                \n",
       "0          10853   496\n",
       "1           1824  1901"
      ]
     },
     "execution_count": 123,
     "metadata": {},
     "output_type": "execute_result"
    },
    {
     "data": {
      "image/png": "[encoded data removed]",
      "text/plain": [
       "<Figure size 864x432 with 2 Axes>"
      ]
     },
     "metadata": {},
     "output_type": "display_data"
    }
   ],
   "source": [
    "y_pred_rf = rf.predict(X_test)\n",
    "confusionMatrix(y_test, y_pred_rf)"
   ]
  },
  {
   "cell_type": "markdown",
   "metadata": {
    "colab_type": "text",
    "id": "q4wMetyyfot7"
   },
   "source": [
    "# **Final Model**"
   ]
  },
  {
   "cell_type": "markdown",
   "metadata": {
    "colab_type": "text",
    "id": "eZShUB4zKvpU"
   },
   "source": [
    "Finally, our final model is **SVM with RBF kernel** because is the model whose score is greater than the other models that we tested. Now we will process the testing dataset with this model."
   ]
  },
  {
   "cell_type": "code",
   "execution_count": 124,
   "metadata": {
    "colab": {},
    "colab_type": "code",
    "id": "O-lujokwqEjz"
   },
   "outputs": [],
   "source": [
    "X_test_final = X = df_test_final.drop('target', axis=1)"
   ]
  },
  {
   "cell_type": "code",
   "execution_count": 125,
   "metadata": {
    "colab": {},
    "colab_type": "code",
    "id": "7HtLeCG9qEj3"
   },
   "outputs": [],
   "source": [
    "y_test_final = df_test_final['target']"
   ]
  },
  {
   "cell_type": "code",
   "execution_count": 126,
   "metadata": {
    "colab": {
     "base_uri": "https://localhost:8080/",
     "height": 35
    },
    "colab_type": "code",
    "executionInfo": {
     "elapsed": 18931,
     "status": "ok",
     "timestamp": 1578773894433,
     "user": {
      "displayName": "Àlex Valls",
      "photoUrl": "",
      "userId": "01219145643472682283"
     },
     "user_tz": -60
    },
    "id": "yIDLTmxMqEj9",
    "outputId": "9f02fb62-96cd-495c-fd40-5f788d4ec442"
   },
   "outputs": [
    {
     "name": "stdout",
     "output_type": "stream",
     "text": [
      "0.8665382315817445\n"
     ]
    }
   ],
   "source": [
    "svmrbf = SVC(kernel='rbf', random_state=0, gamma=.01, C=1)\n",
    "svmrbf.fit(X_test_final, y_test_final)\n",
    "print(svmrbf.score(X_test_final, y_test_final))"
   ]
  },
  {
   "cell_type": "code",
   "execution_count": 127,
   "metadata": {
    "colab": {
     "base_uri": "https://localhost:8080/",
     "height": 530
    },
    "colab_type": "code",
    "executionInfo": {
     "elapsed": 8224,
     "status": "ok",
     "timestamp": 1578774046983,
     "user": {
      "displayName": "Àlex Valls",
      "photoUrl": "",
      "userId": "01219145643472682283"
     },
     "user_tz": -60
    },
    "id": "_ZTtr4NGqEkD",
    "outputId": "dd88cfd2-ee4e-469f-e182-6f144189fc6a"
   },
   "outputs": [
    {
     "data": {
      "text/html": [
       "<div>\n",
       "<style scoped>\n",
       "    .dataframe tbody tr th:only-of-type {\n",
       "        vertical-align: middle;\n",
       "    }\n",
       "\n",
       "    .dataframe tbody tr th {\n",
       "        vertical-align: top;\n",
       "    }\n",
       "\n",
       "    .dataframe thead th {\n",
       "        text-align: right;\n",
       "    }\n",
       "</style>\n",
       "<table border=\"1\" class=\"dataframe\">\n",
       "  <thead>\n",
       "    <tr style=\"text-align: right;\">\n",
       "      <th>Predicted</th>\n",
       "      <th>0</th>\n",
       "      <th>1</th>\n",
       "    </tr>\n",
       "    <tr>\n",
       "      <th>Actual</th>\n",
       "      <th></th>\n",
       "      <th></th>\n",
       "    </tr>\n",
       "  </thead>\n",
       "  <tbody>\n",
       "    <tr>\n",
       "      <td>0</td>\n",
       "      <td>10973</td>\n",
       "      <td>382</td>\n",
       "    </tr>\n",
       "    <tr>\n",
       "      <td>1</td>\n",
       "      <td>1627</td>\n",
       "      <td>2071</td>\n",
       "    </tr>\n",
       "  </tbody>\n",
       "</table>\n",
       "</div>"
      ],
      "text/plain": [
       "Predicted      0     1\n",
       "Actual                \n",
       "0          10973   382\n",
       "1           1627  2071"
      ]
     },
     "execution_count": 127,
     "metadata": {},
     "output_type": "execute_result"
    },
    {
     "data": {
      "image/png": "[encoded data removed]",
      "text/plain": [
       "<Figure size 864x432 with 2 Axes>"
      ]
     },
     "metadata": {},
     "output_type": "display_data"
    }
   ],
   "source": [
    "y_pred_final = svmrbf.predict(X_test_final)\n",
    "confusionMatrix(y_test_final, y_pred_final)"
   ]
  },
  {
   "cell_type": "markdown",
   "metadata": {
    "colab_type": "text",
    "id": "86LC9QtrRE_r"
   },
   "source": [
    "The final model has a score = 0.8665382315817445, so we can conclude that it is a good model for our classification problem."
   ]
  }
 ],
 "metadata": {
  "colab": {
   "name": "50k Classification model.ipynb",
   "provenance": [],
   "toc_visible": true
  },
  "kernelspec": {
   "display_name": "Python 3",
   "language": "python",
   "name": "python3"
  },
  "language_info": {
   "codemirror_mode": {
    "name": "ipython",
    "version": 3
   },
   "file_extension": ".py",
   "mimetype": "text/x-python",
   "name": "python",
   "nbconvert_exporter": "python",
   "pygments_lexer": "ipython3",
   "version": "3.7.4"
  }
 },
 "nbformat": 4,
 "nbformat_minor": 1
}
